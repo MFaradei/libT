{
 "cells": [
  {
   "cell_type": "code",
   "execution_count": 620,
   "metadata": {
    "id": "xCPgrUJEEgaP"
   },
   "outputs": [],
   "source": [
    "import pandas as pd\n",
    "import numpy as np\n",
    "import networkx as nx\n",
    "from sklearn.model_selection import train_test_split\n",
    "from tqdm.notebook import tqdm\n",
    "import seaborn as sns\n",
    "\n",
    "\n",
    "from sklearn.preprocessing import normalize\n",
    "import matplotlib.pyplot  as  plt\n",
    "tqdm.pandas()\n",
    "import itertools"
   ]
  },
  {
   "cell_type": "code",
   "execution_count": 2,
   "metadata": {
    "id": "8mfp-NaFD6KW"
   },
   "outputs": [],
   "source": [
    "#считывание данных\n",
    "users = pd.read_csv('train/users.csv', sep=';', index_col=None, \n",
    "                    dtype={'age': str, 'chb': str, 'chit_type': str, 'gender': str})\n",
    "items = pd.read_csv('train/items.csv', sep=';', index_col=None, \n",
    "                    dtype={'author': str, 'bbk': str, 'izd': str, 'sys_numb': str, 'title': str, 'year_izd': str})\n",
    "train_transactions = pd.read_csv('train/train_transactions_extended.csv', sep=';', index_col=None, \n",
    "                                 dtype={'chb': str, 'date_1': str, 'is_printed': str, 'is_real': str, 'source': str, 'sys_numb': str, 'type': str})"
   ]
  },
  {
   "cell_type": "markdown",
   "metadata": {},
   "source": [
    "# Очищаем результаты от пустых значений\n",
    "#                   книги"
   ]
  },
  {
   "cell_type": "code",
   "execution_count": 3,
   "metadata": {},
   "outputs": [],
   "source": [
    "def aut_non(a):                      # уберем значения которые не несут смысловую нагрузку\n",
    "    if a =='отсутствует' or a =='none' or a=='None' or a == 'нет данных' or a == 'не указан':\n",
    "        return None\n",
    "    else:\n",
    "        return a"
   ]
  },
  {
   "cell_type": "code",
   "execution_count": 4,
   "metadata": {},
   "outputs": [
    {
     "data": {
      "text/plain": [
       "<AxesSubplot:>"
      ]
     },
     "execution_count": 4,
     "metadata": {},
     "output_type": "execute_result"
    },
    {
     "data": {
      "image/png": "[encoded data removed]",
      "text/plain": [
       "<Figure size 432x288 with 1 Axes>"
      ]
     },
     "metadata": {
      "needs_background": "light"
     },
     "output_type": "display_data"
    }
   ],
   "source": [
    "items['author'] = items['author'].apply(lambda x: aut_non(x))\n",
    "items['title'] = items['title'].apply(lambda x: aut_non(x))\n",
    "items['izd'] = items['izd'].apply(lambda x: aut_non(x))\n",
    "items['year_izd'] = items['year_izd'].apply(lambda x: aut_non(x))\n",
    "items['bbk'] = items['bbk'].apply(lambda x: aut_non(x))\n",
    "sns.heatmap(items.isnull(), yticklabels=False, cbar=False, cmap='viridis')"
   ]
  },
  {
   "cell_type": "code",
   "execution_count": null,
   "metadata": {},
   "outputs": [],
   "source": []
  },
  {
   "cell_type": "markdown",
   "metadata": {},
   "source": [
    "# пользователи"
   ]
  },
  {
   "cell_type": "code",
   "execution_count": 5,
   "metadata": {},
   "outputs": [],
   "source": [
    "users['age'] = users['age'].apply(lambda x: aut_non(x))\n",
    "users['chb'] = users['chb'].apply(lambda x: aut_non(x))\n",
    "users['chit_type'] = users['chit_type'].apply(lambda x: aut_non(x))\n",
    "users['gender'] = users['gender'].apply(lambda x: aut_non(x))"
   ]
  },
  {
   "cell_type": "code",
   "execution_count": 6,
   "metadata": {},
   "outputs": [
    {
     "data": {
      "text/plain": [
       "<AxesSubplot:>"
      ]
     },
     "execution_count": 6,
     "metadata": {},
     "output_type": "execute_result"
    },
    {
     "data": {
      "image/png": "[encoded data removed]",
      "text/plain": [
       "<Figure size 432x288 with 1 Axes>"
      ]
     },
     "metadata": {
      "needs_background": "light"
     },
     "output_type": "display_data"
    }
   ],
   "source": [
    "sns.heatmap(users.isnull(), yticklabels=False, cbar=False, cmap='viridis')"
   ]
  },
  {
   "cell_type": "code",
   "execution_count": 7,
   "metadata": {},
   "outputs": [
    {
     "data": {
      "text/html": [
       "<div>\n",
       "<style scoped>\n",
       "    .dataframe tbody tr th:only-of-type {\n",
       "        vertical-align: middle;\n",
       "    }\n",
       "\n",
       "    .dataframe tbody tr th {\n",
       "        vertical-align: top;\n",
       "    }\n",
       "\n",
       "    .dataframe thead th {\n",
       "        text-align: right;\n",
       "    }\n",
       "</style>\n",
       "<table border=\"1\" class=\"dataframe\">\n",
       "  <thead>\n",
       "    <tr style=\"text-align: right;\">\n",
       "      <th></th>\n",
       "      <th>chb</th>\n",
       "      <th>age</th>\n",
       "      <th>gender</th>\n",
       "      <th>chit_type</th>\n",
       "    </tr>\n",
       "  </thead>\n",
       "  <tbody>\n",
       "    <tr>\n",
       "      <th>199</th>\n",
       "      <td>300000807978</td>\n",
       "      <td>61</td>\n",
       "      <td>None</td>\n",
       "      <td>None</td>\n",
       "    </tr>\n",
       "    <tr>\n",
       "      <th>376</th>\n",
       "      <td>300000830295</td>\n",
       "      <td>39</td>\n",
       "      <td>None</td>\n",
       "      <td>normal</td>\n",
       "    </tr>\n",
       "    <tr>\n",
       "      <th>2817</th>\n",
       "      <td>200000457581</td>\n",
       "      <td>38</td>\n",
       "      <td>None</td>\n",
       "      <td>normal</td>\n",
       "    </tr>\n",
       "    <tr>\n",
       "      <th>3584</th>\n",
       "      <td>100000764843</td>\n",
       "      <td>70</td>\n",
       "      <td>None</td>\n",
       "      <td>None</td>\n",
       "    </tr>\n",
       "    <tr>\n",
       "      <th>3621</th>\n",
       "      <td>100000683677</td>\n",
       "      <td>49</td>\n",
       "      <td>None</td>\n",
       "      <td>None</td>\n",
       "    </tr>\n",
       "    <tr>\n",
       "      <th>5080</th>\n",
       "      <td>200000968175</td>\n",
       "      <td>39</td>\n",
       "      <td>None</td>\n",
       "      <td>None</td>\n",
       "    </tr>\n",
       "    <tr>\n",
       "      <th>6119</th>\n",
       "      <td>100001025944</td>\n",
       "      <td>69</td>\n",
       "      <td>None</td>\n",
       "      <td>None</td>\n",
       "    </tr>\n",
       "    <tr>\n",
       "      <th>6477</th>\n",
       "      <td>100000820607</td>\n",
       "      <td>45</td>\n",
       "      <td>None</td>\n",
       "      <td>None</td>\n",
       "    </tr>\n",
       "    <tr>\n",
       "      <th>6662</th>\n",
       "      <td>200000831671</td>\n",
       "      <td>58</td>\n",
       "      <td>None</td>\n",
       "      <td>None</td>\n",
       "    </tr>\n",
       "    <tr>\n",
       "      <th>6670</th>\n",
       "      <td>100000983523</td>\n",
       "      <td>58</td>\n",
       "      <td>None</td>\n",
       "      <td>None</td>\n",
       "    </tr>\n",
       "    <tr>\n",
       "      <th>9617</th>\n",
       "      <td>200000945692</td>\n",
       "      <td>69</td>\n",
       "      <td>None</td>\n",
       "      <td>None</td>\n",
       "    </tr>\n",
       "    <tr>\n",
       "      <th>9681</th>\n",
       "      <td>200001067539</td>\n",
       "      <td>None</td>\n",
       "      <td>None</td>\n",
       "      <td>None</td>\n",
       "    </tr>\n",
       "    <tr>\n",
       "      <th>14260</th>\n",
       "      <td>300001092400</td>\n",
       "      <td>34</td>\n",
       "      <td>None</td>\n",
       "      <td>None</td>\n",
       "    </tr>\n",
       "    <tr>\n",
       "      <th>15844</th>\n",
       "      <td>100000963289</td>\n",
       "      <td>68</td>\n",
       "      <td>None</td>\n",
       "      <td>None</td>\n",
       "    </tr>\n",
       "  </tbody>\n",
       "</table>\n",
       "</div>"
      ],
      "text/plain": [
       "                chb   age gender chit_type\n",
       "199    300000807978    61   None      None\n",
       "376    300000830295    39   None    normal\n",
       "2817   200000457581    38   None    normal\n",
       "3584   100000764843    70   None      None\n",
       "3621   100000683677    49   None      None\n",
       "5080   200000968175    39   None      None\n",
       "6119   100001025944    69   None      None\n",
       "6477   100000820607    45   None      None\n",
       "6662   200000831671    58   None      None\n",
       "6670   100000983523    58   None      None\n",
       "9617   200000945692    69   None      None\n",
       "9681   200001067539  None   None      None\n",
       "14260  300001092400    34   None      None\n",
       "15844  100000963289    68   None      None"
      ]
     },
     "execution_count": 7,
     "metadata": {},
     "output_type": "execute_result"
    }
   ],
   "source": [
    "users[users['gender'].isnull()]"
   ]
  },
  {
   "cell_type": "code",
   "execution_count": 8,
   "metadata": {},
   "outputs": [
    {
     "data": {
      "text/plain": [
       "array(['female', 'male', None], dtype=object)"
      ]
     },
     "execution_count": 8,
     "metadata": {},
     "output_type": "execute_result"
    }
   ],
   "source": [
    "users['gender'].unique()"
   ]
  },
  {
   "cell_type": "code",
   "execution_count": null,
   "metadata": {},
   "outputs": [],
   "source": []
  },
  {
   "cell_type": "markdown",
   "metadata": {},
   "source": [
    "# выданные книги"
   ]
  },
  {
   "cell_type": "code",
   "execution_count": 9,
   "metadata": {},
   "outputs": [
    {
     "data": {
      "text/html": [
       "<div>\n",
       "<style scoped>\n",
       "    .dataframe tbody tr th:only-of-type {\n",
       "        vertical-align: middle;\n",
       "    }\n",
       "\n",
       "    .dataframe tbody tr th {\n",
       "        vertical-align: top;\n",
       "    }\n",
       "\n",
       "    .dataframe thead th {\n",
       "        text-align: right;\n",
       "    }\n",
       "</style>\n",
       "<table border=\"1\" class=\"dataframe\">\n",
       "  <thead>\n",
       "    <tr style=\"text-align: right;\">\n",
       "      <th></th>\n",
       "      <th>chb</th>\n",
       "      <th>sys_numb</th>\n",
       "      <th>date_1</th>\n",
       "      <th>is_real</th>\n",
       "      <th>type</th>\n",
       "      <th>source</th>\n",
       "      <th>is_printed</th>\n",
       "    </tr>\n",
       "  </thead>\n",
       "  <tbody>\n",
       "    <tr>\n",
       "      <th>0</th>\n",
       "      <td>100000641403</td>\n",
       "      <td>RSL01004206702</td>\n",
       "      <td>2021-02-21</td>\n",
       "      <td>yes</td>\n",
       "      <td>скачивание</td>\n",
       "      <td>dlib.rsl.ru</td>\n",
       "      <td>False</td>\n",
       "    </tr>\n",
       "    <tr>\n",
       "      <th>1</th>\n",
       "      <td>100000641403</td>\n",
       "      <td>RSL01000769304</td>\n",
       "      <td>2021-03-23</td>\n",
       "      <td>yes</td>\n",
       "      <td>скачивание</td>\n",
       "      <td>dlib.rsl.ru</td>\n",
       "      <td>False</td>\n",
       "    </tr>\n",
       "    <tr>\n",
       "      <th>2</th>\n",
       "      <td>100000641403</td>\n",
       "      <td>RSL01004211574</td>\n",
       "      <td>2021-02-21</td>\n",
       "      <td>yes</td>\n",
       "      <td>скачивание</td>\n",
       "      <td>dlib.rsl.ru</td>\n",
       "      <td>False</td>\n",
       "    </tr>\n",
       "    <tr>\n",
       "      <th>3</th>\n",
       "      <td>100000644359</td>\n",
       "      <td>RSL01009800093</td>\n",
       "      <td>2021-03-16</td>\n",
       "      <td>yes</td>\n",
       "      <td>книговыдача</td>\n",
       "      <td>единый просмоторщик</td>\n",
       "      <td>False</td>\n",
       "    </tr>\n",
       "    <tr>\n",
       "      <th>4</th>\n",
       "      <td>100000644359</td>\n",
       "      <td>RSL01003557352</td>\n",
       "      <td>2021-03-10</td>\n",
       "      <td>yes</td>\n",
       "      <td>книговыдача</td>\n",
       "      <td>единый просмоторщик</td>\n",
       "      <td>False</td>\n",
       "    </tr>\n",
       "  </tbody>\n",
       "</table>\n",
       "</div>"
      ],
      "text/plain": [
       "            chb        sys_numb      date_1 is_real         type  \\\n",
       "0  100000641403  RSL01004206702  2021-02-21     yes   скачивание   \n",
       "1  100000641403  RSL01000769304  2021-03-23     yes   скачивание   \n",
       "2  100000641403  RSL01004211574  2021-02-21     yes   скачивание   \n",
       "3  100000644359  RSL01009800093  2021-03-16     yes  книговыдача   \n",
       "4  100000644359  RSL01003557352  2021-03-10     yes  книговыдача   \n",
       "\n",
       "                source is_printed  \n",
       "0          dlib.rsl.ru      False  \n",
       "1          dlib.rsl.ru      False  \n",
       "2          dlib.rsl.ru      False  \n",
       "3  единый просмоторщик      False  \n",
       "4  единый просмоторщик      False  "
      ]
     },
     "execution_count": 9,
     "metadata": {},
     "output_type": "execute_result"
    }
   ],
   "source": [
    "train_transactions.head()"
   ]
  },
  {
   "cell_type": "code",
   "execution_count": 10,
   "metadata": {},
   "outputs": [
    {
     "data": {
      "text/plain": [
       "array(['False', 'True'], dtype=object)"
      ]
     },
     "execution_count": 10,
     "metadata": {},
     "output_type": "execute_result"
    }
   ],
   "source": [
    "train_transactions['is_printed'].unique()"
   ]
  },
  {
   "cell_type": "code",
   "execution_count": 11,
   "metadata": {},
   "outputs": [],
   "source": [
    "from prophet import Prophet"
   ]
  },
  {
   "cell_type": "code",
   "execution_count": 12,
   "metadata": {},
   "outputs": [
    {
     "data": {
      "text/plain": [
       "array(['dlib.rsl.ru', 'единый просмоторщик', 'None', '2DL.Viewer'],\n",
       "      dtype=object)"
      ]
     },
     "execution_count": 12,
     "metadata": {},
     "output_type": "execute_result"
    }
   ],
   "source": [
    "train_transactions['source'].unique()"
   ]
  },
  {
   "cell_type": "code",
   "execution_count": 13,
   "metadata": {},
   "outputs": [],
   "source": [
    "# объеденим в один dataset"
   ]
  },
  {
   "cell_type": "code",
   "execution_count": 14,
   "metadata": {},
   "outputs": [],
   "source": [
    "df = train_transactions.merge(items, on='sys_numb')"
   ]
  },
  {
   "cell_type": "code",
   "execution_count": 15,
   "metadata": {},
   "outputs": [],
   "source": [
    "df = df.merge(users, on='chb')"
   ]
  },
  {
   "cell_type": "code",
   "execution_count": 16,
   "metadata": {},
   "outputs": [
    {
     "data": {
      "text/plain": [
       "<AxesSubplot:>"
      ]
     },
     "execution_count": 16,
     "metadata": {},
     "output_type": "execute_result"
    },
    {
     "data": {
      "image/png": "[encoded data removed]",
      "text/plain": [
       "<Figure size 432x288 with 1 Axes>"
      ]
     },
     "metadata": {
      "needs_background": "light"
     },
     "output_type": "display_data"
    }
   ],
   "source": [
    "sns.heatmap(df.isnull(), yticklabels=False, cbar=False, cmap='viridis')"
   ]
  },
  {
   "cell_type": "code",
   "execution_count": 17,
   "metadata": {},
   "outputs": [],
   "source": [
    "df.dropna(subset=['title'], inplace=True) # удалим пустые \n",
    "df.reset_index(drop=True, inplace=True)"
   ]
  },
  {
   "cell_type": "code",
   "execution_count": 18,
   "metadata": {},
   "outputs": [
    {
     "name": "stdout",
     "output_type": "stream",
     "text": [
      "<class 'pandas.core.frame.DataFrame'>\n",
      "RangeIndex: 240324 entries, 0 to 240323\n",
      "Data columns (total 15 columns):\n",
      " #   Column      Non-Null Count   Dtype \n",
      "---  ------      --------------   ----- \n",
      " 0   chb         240324 non-null  object\n",
      " 1   sys_numb    240324 non-null  object\n",
      " 2   date_1      240324 non-null  object\n",
      " 3   is_real     240324 non-null  object\n",
      " 4   type        240324 non-null  object\n",
      " 5   source      240324 non-null  object\n",
      " 6   is_printed  240324 non-null  object\n",
      " 7   title       240324 non-null  object\n",
      " 8   author      190418 non-null  object\n",
      " 9   izd         157337 non-null  object\n",
      " 10  year_izd    238739 non-null  object\n",
      " 11  bbk         164026 non-null  object\n",
      " 12  age         240321 non-null  object\n",
      " 13  gender      239956 non-null  object\n",
      " 14  chit_type   57596 non-null   object\n",
      "dtypes: object(15)\n",
      "memory usage: 27.5+ MB\n"
     ]
    }
   ],
   "source": [
    "df.info()"
   ]
  },
  {
   "cell_type": "code",
   "execution_count": 19,
   "metadata": {},
   "outputs": [
    {
     "data": {
      "text/plain": [
       "<AxesSubplot:>"
      ]
     },
     "execution_count": 19,
     "metadata": {},
     "output_type": "execute_result"
    },
    {
     "data": {
      "image/png": "[encoded data removed]",
      "text/plain": [
       "<Figure size 432x288 with 1 Axes>"
      ]
     },
     "metadata": {
      "needs_background": "light"
     },
     "output_type": "display_data"
    }
   ],
   "source": [
    "sns.heatmap(df.isnull(), yticklabels=False, cbar=False, cmap='viridis')"
   ]
  },
  {
   "cell_type": "code",
   "execution_count": 20,
   "metadata": {},
   "outputs": [],
   "source": [
    "df.drop(['chit_type', 'is_real', 'type', 'source', 'is_printed'], axis=1, inplace=True)"
   ]
  },
  {
   "cell_type": "code",
   "execution_count": 21,
   "metadata": {},
   "outputs": [],
   "source": [
    "df['date_1']=pd.to_datetime(df['date_1']) # преобразовал даты в даты"
   ]
  },
  {
   "cell_type": "code",
   "execution_count": 22,
   "metadata": {},
   "outputs": [
    {
     "data": {
      "text/html": [
       "<div>\n",
       "<style scoped>\n",
       "    .dataframe tbody tr th:only-of-type {\n",
       "        vertical-align: middle;\n",
       "    }\n",
       "\n",
       "    .dataframe tbody tr th {\n",
       "        vertical-align: top;\n",
       "    }\n",
       "\n",
       "    .dataframe thead th {\n",
       "        text-align: right;\n",
       "    }\n",
       "</style>\n",
       "<table border=\"1\" class=\"dataframe\">\n",
       "  <thead>\n",
       "    <tr style=\"text-align: right;\">\n",
       "      <th></th>\n",
       "      <th>chb</th>\n",
       "      <th>sys_numb</th>\n",
       "      <th>date_1</th>\n",
       "      <th>title</th>\n",
       "      <th>author</th>\n",
       "      <th>izd</th>\n",
       "      <th>year_izd</th>\n",
       "      <th>bbk</th>\n",
       "      <th>age</th>\n",
       "      <th>gender</th>\n",
       "    </tr>\n",
       "  </thead>\n",
       "  <tbody>\n",
       "    <tr>\n",
       "      <th>0</th>\n",
       "      <td>100000641403</td>\n",
       "      <td>RSL01004206702</td>\n",
       "      <td>2021-02-21</td>\n",
       "      <td>Придание огнестойкости деревянным постройкам</td>\n",
       "      <td>Максимов, Владимир Лаврович</td>\n",
       "      <td>Гл. упр. землеустройства и земледелия</td>\n",
       "      <td>1915</td>\n",
       "      <td>None</td>\n",
       "      <td>55</td>\n",
       "      <td>male</td>\n",
       "    </tr>\n",
       "    <tr>\n",
       "      <th>1</th>\n",
       "      <td>100000641403</td>\n",
       "      <td>RSL01000769304</td>\n",
       "      <td>2021-03-23</td>\n",
       "      <td>Медицинская, научная и общественная деятельнос...</td>\n",
       "      <td>Шалаев, Николай Федорович</td>\n",
       "      <td>None</td>\n",
       "      <td>1993</td>\n",
       "      <td>None</td>\n",
       "      <td>55</td>\n",
       "      <td>male</td>\n",
       "    </tr>\n",
       "    <tr>\n",
       "      <th>2</th>\n",
       "      <td>100000641403</td>\n",
       "      <td>RSL01004211574</td>\n",
       "      <td>2021-02-21</td>\n",
       "      <td>Кирпичная изба</td>\n",
       "      <td>Максимов, Владимир Лаврович</td>\n",
       "      <td>М-во зем.</td>\n",
       "      <td>1916</td>\n",
       "      <td>None</td>\n",
       "      <td>55</td>\n",
       "      <td>male</td>\n",
       "    </tr>\n",
       "    <tr>\n",
       "      <th>3</th>\n",
       "      <td>200000854633</td>\n",
       "      <td>RSL01004211574</td>\n",
       "      <td>2021-01-26</td>\n",
       "      <td>Кирпичная изба</td>\n",
       "      <td>Максимов, Владимир Лаврович</td>\n",
       "      <td>М-во зем.</td>\n",
       "      <td>1916</td>\n",
       "      <td>None</td>\n",
       "      <td>29</td>\n",
       "      <td>male</td>\n",
       "    </tr>\n",
       "    <tr>\n",
       "      <th>4</th>\n",
       "      <td>200000854633</td>\n",
       "      <td>RSL01004185091</td>\n",
       "      <td>2021-06-10</td>\n",
       "      <td>Кулинарный сборник : 1-е изд. : Рецепты кушани...</td>\n",
       "      <td>None</td>\n",
       "      <td>None</td>\n",
       "      <td>1915</td>\n",
       "      <td>None</td>\n",
       "      <td>29</td>\n",
       "      <td>male</td>\n",
       "    </tr>\n",
       "  </tbody>\n",
       "</table>\n",
       "</div>"
      ],
      "text/plain": [
       "            chb        sys_numb     date_1  \\\n",
       "0  100000641403  RSL01004206702 2021-02-21   \n",
       "1  100000641403  RSL01000769304 2021-03-23   \n",
       "2  100000641403  RSL01004211574 2021-02-21   \n",
       "3  200000854633  RSL01004211574 2021-01-26   \n",
       "4  200000854633  RSL01004185091 2021-06-10   \n",
       "\n",
       "                                               title  \\\n",
       "0      Придание огнестойкости деревянным постройкам    \n",
       "1  Медицинская, научная и общественная деятельнос...   \n",
       "2                                    Кирпичная изба    \n",
       "3                                    Кирпичная изба    \n",
       "4  Кулинарный сборник : 1-е изд. : Рецепты кушани...   \n",
       "\n",
       "                        author                                    izd  \\\n",
       "0  Максимов, Владимир Лаврович  Гл. упр. землеустройства и земледелия   \n",
       "1    Шалаев, Николай Федорович                                   None   \n",
       "2  Максимов, Владимир Лаврович                              М-во зем.   \n",
       "3  Максимов, Владимир Лаврович                              М-во зем.   \n",
       "4                         None                                   None   \n",
       "\n",
       "  year_izd   bbk age gender  \n",
       "0     1915  None  55   male  \n",
       "1     1993  None  55   male  \n",
       "2     1916  None  55   male  \n",
       "3     1916  None  29   male  \n",
       "4     1915  None  29   male  "
      ]
     },
     "execution_count": 22,
     "metadata": {},
     "output_type": "execute_result"
    }
   ],
   "source": [
    "df.head()"
   ]
  },
  {
   "cell_type": "code",
   "execution_count": null,
   "metadata": {},
   "outputs": [],
   "source": []
  },
  {
   "cell_type": "code",
   "execution_count": 23,
   "metadata": {},
   "outputs": [],
   "source": [
    "temper_t = df['sys_numb'].value_counts()"
   ]
  },
  {
   "cell_type": "code",
   "execution_count": 24,
   "metadata": {},
   "outputs": [
    {
     "data": {
      "application/vnd.jupyter.widget-view+json": {
       "model_id": "b77e958186a04d9d94dfefec6faeb54a",
       "version_major": 2,
       "version_minor": 0
      },
      "text/plain": [
       "  0%|          | 0/240324 [00:00<?, ?it/s]"
      ]
     },
     "metadata": {},
     "output_type": "display_data"
    }
   ],
   "source": [
    "df['touch_book']=df['sys_numb'].progress_apply(lambda x: temper_t[x])"
   ]
  },
  {
   "cell_type": "code",
   "execution_count": 25,
   "metadata": {},
   "outputs": [],
   "source": [
    "temper = df['chb'].value_counts()"
   ]
  },
  {
   "cell_type": "code",
   "execution_count": 26,
   "metadata": {},
   "outputs": [
    {
     "data": {
      "application/vnd.jupyter.widget-view+json": {
       "model_id": "d754a49802c14339acfa17392645ae44",
       "version_major": 2,
       "version_minor": 0
      },
      "text/plain": [
       "  0%|          | 0/240324 [00:00<?, ?it/s]"
      ]
     },
     "metadata": {},
     "output_type": "display_data"
    }
   ],
   "source": [
    "df['get_book_u']=df['chb'].progress_apply(lambda x: temper[x])"
   ]
  },
  {
   "cell_type": "code",
   "execution_count": 27,
   "metadata": {},
   "outputs": [
    {
     "data": {
      "text/html": [
       "<div>\n",
       "<style scoped>\n",
       "    .dataframe tbody tr th:only-of-type {\n",
       "        vertical-align: middle;\n",
       "    }\n",
       "\n",
       "    .dataframe tbody tr th {\n",
       "        vertical-align: top;\n",
       "    }\n",
       "\n",
       "    .dataframe thead th {\n",
       "        text-align: right;\n",
       "    }\n",
       "</style>\n",
       "<table border=\"1\" class=\"dataframe\">\n",
       "  <thead>\n",
       "    <tr style=\"text-align: right;\">\n",
       "      <th></th>\n",
       "      <th>chb</th>\n",
       "      <th>sys_numb</th>\n",
       "      <th>date_1</th>\n",
       "      <th>title</th>\n",
       "      <th>author</th>\n",
       "      <th>izd</th>\n",
       "      <th>year_izd</th>\n",
       "      <th>bbk</th>\n",
       "      <th>age</th>\n",
       "      <th>gender</th>\n",
       "      <th>touch_book</th>\n",
       "      <th>get_book_u</th>\n",
       "    </tr>\n",
       "  </thead>\n",
       "  <tbody>\n",
       "    <tr>\n",
       "      <th>0</th>\n",
       "      <td>100000641403</td>\n",
       "      <td>RSL01004206702</td>\n",
       "      <td>2021-02-21</td>\n",
       "      <td>Придание огнестойкости деревянным постройкам</td>\n",
       "      <td>Максимов, Владимир Лаврович</td>\n",
       "      <td>Гл. упр. землеустройства и земледелия</td>\n",
       "      <td>1915</td>\n",
       "      <td>None</td>\n",
       "      <td>55</td>\n",
       "      <td>male</td>\n",
       "      <td>1</td>\n",
       "      <td>3</td>\n",
       "    </tr>\n",
       "    <tr>\n",
       "      <th>1</th>\n",
       "      <td>100000641403</td>\n",
       "      <td>RSL01000769304</td>\n",
       "      <td>2021-03-23</td>\n",
       "      <td>Медицинская, научная и общественная деятельнос...</td>\n",
       "      <td>Шалаев, Николай Федорович</td>\n",
       "      <td>None</td>\n",
       "      <td>1993</td>\n",
       "      <td>None</td>\n",
       "      <td>55</td>\n",
       "      <td>male</td>\n",
       "      <td>1</td>\n",
       "      <td>3</td>\n",
       "    </tr>\n",
       "    <tr>\n",
       "      <th>2</th>\n",
       "      <td>100000641403</td>\n",
       "      <td>RSL01004211574</td>\n",
       "      <td>2021-02-21</td>\n",
       "      <td>Кирпичная изба</td>\n",
       "      <td>Максимов, Владимир Лаврович</td>\n",
       "      <td>М-во зем.</td>\n",
       "      <td>1916</td>\n",
       "      <td>None</td>\n",
       "      <td>55</td>\n",
       "      <td>male</td>\n",
       "      <td>2</td>\n",
       "      <td>3</td>\n",
       "    </tr>\n",
       "    <tr>\n",
       "      <th>3</th>\n",
       "      <td>200000854633</td>\n",
       "      <td>RSL01004211574</td>\n",
       "      <td>2021-01-26</td>\n",
       "      <td>Кирпичная изба</td>\n",
       "      <td>Максимов, Владимир Лаврович</td>\n",
       "      <td>М-во зем.</td>\n",
       "      <td>1916</td>\n",
       "      <td>None</td>\n",
       "      <td>29</td>\n",
       "      <td>male</td>\n",
       "      <td>2</td>\n",
       "      <td>26</td>\n",
       "    </tr>\n",
       "    <tr>\n",
       "      <th>4</th>\n",
       "      <td>200000854633</td>\n",
       "      <td>RSL01004185091</td>\n",
       "      <td>2021-06-10</td>\n",
       "      <td>Кулинарный сборник : 1-е изд. : Рецепты кушани...</td>\n",
       "      <td>None</td>\n",
       "      <td>None</td>\n",
       "      <td>1915</td>\n",
       "      <td>None</td>\n",
       "      <td>29</td>\n",
       "      <td>male</td>\n",
       "      <td>3</td>\n",
       "      <td>26</td>\n",
       "    </tr>\n",
       "  </tbody>\n",
       "</table>\n",
       "</div>"
      ],
      "text/plain": [
       "            chb        sys_numb     date_1  \\\n",
       "0  100000641403  RSL01004206702 2021-02-21   \n",
       "1  100000641403  RSL01000769304 2021-03-23   \n",
       "2  100000641403  RSL01004211574 2021-02-21   \n",
       "3  200000854633  RSL01004211574 2021-01-26   \n",
       "4  200000854633  RSL01004185091 2021-06-10   \n",
       "\n",
       "                                               title  \\\n",
       "0      Придание огнестойкости деревянным постройкам    \n",
       "1  Медицинская, научная и общественная деятельнос...   \n",
       "2                                    Кирпичная изба    \n",
       "3                                    Кирпичная изба    \n",
       "4  Кулинарный сборник : 1-е изд. : Рецепты кушани...   \n",
       "\n",
       "                        author                                    izd  \\\n",
       "0  Максимов, Владимир Лаврович  Гл. упр. землеустройства и земледелия   \n",
       "1    Шалаев, Николай Федорович                                   None   \n",
       "2  Максимов, Владимир Лаврович                              М-во зем.   \n",
       "3  Максимов, Владимир Лаврович                              М-во зем.   \n",
       "4                         None                                   None   \n",
       "\n",
       "  year_izd   bbk age gender  touch_book  get_book_u  \n",
       "0     1915  None  55   male           1           3  \n",
       "1     1993  None  55   male           1           3  \n",
       "2     1916  None  55   male           2           3  \n",
       "3     1916  None  29   male           2          26  \n",
       "4     1915  None  29   male           3          26  "
      ]
     },
     "execution_count": 27,
     "metadata": {},
     "output_type": "execute_result"
    }
   ],
   "source": [
    "df.head()"
   ]
  },
  {
   "cell_type": "code",
   "execution_count": 28,
   "metadata": {},
   "outputs": [
    {
     "data": {
      "text/plain": [
       "3"
      ]
     },
     "execution_count": 28,
     "metadata": {},
     "output_type": "execute_result"
    }
   ],
   "source": [
    "df['age'].isnull().sum() #----------------------------------------"
   ]
  },
  {
   "cell_type": "code",
   "execution_count": 29,
   "metadata": {},
   "outputs": [],
   "source": [
    "df['age'] = df['age'].fillna('20') # т.к. только один человек не указал свой возраст и судя по книгам \n",
    "                                   # можно предположить что это студент 20 л."
   ]
  },
  {
   "cell_type": "code",
   "execution_count": 30,
   "metadata": {},
   "outputs": [],
   "source": [
    "df['age'] = df['age'].astype('int64')"
   ]
  },
  {
   "cell_type": "code",
   "execution_count": 31,
   "metadata": {},
   "outputs": [
    {
     "data": {
      "text/html": [
       "<div>\n",
       "<style scoped>\n",
       "    .dataframe tbody tr th:only-of-type {\n",
       "        vertical-align: middle;\n",
       "    }\n",
       "\n",
       "    .dataframe tbody tr th {\n",
       "        vertical-align: top;\n",
       "    }\n",
       "\n",
       "    .dataframe thead th {\n",
       "        text-align: right;\n",
       "    }\n",
       "</style>\n",
       "<table border=\"1\" class=\"dataframe\">\n",
       "  <thead>\n",
       "    <tr style=\"text-align: right;\">\n",
       "      <th></th>\n",
       "      <th>age</th>\n",
       "      <th>touch_book</th>\n",
       "      <th>get_book_u</th>\n",
       "    </tr>\n",
       "  </thead>\n",
       "  <tbody>\n",
       "    <tr>\n",
       "      <th>count</th>\n",
       "      <td>240324.00</td>\n",
       "      <td>240324.00</td>\n",
       "      <td>240324.00</td>\n",
       "    </tr>\n",
       "    <tr>\n",
       "      <th>mean</th>\n",
       "      <td>39.93</td>\n",
       "      <td>1.99</td>\n",
       "      <td>386.97</td>\n",
       "    </tr>\n",
       "    <tr>\n",
       "      <th>std</th>\n",
       "      <td>16.44</td>\n",
       "      <td>2.16</td>\n",
       "      <td>1268.81</td>\n",
       "    </tr>\n",
       "    <tr>\n",
       "      <th>min</th>\n",
       "      <td>0.00</td>\n",
       "      <td>1.00</td>\n",
       "      <td>1.00</td>\n",
       "    </tr>\n",
       "    <tr>\n",
       "      <th>25%</th>\n",
       "      <td>25.00</td>\n",
       "      <td>1.00</td>\n",
       "      <td>12.00</td>\n",
       "    </tr>\n",
       "    <tr>\n",
       "      <th>50%</th>\n",
       "      <td>37.00</td>\n",
       "      <td>1.00</td>\n",
       "      <td>31.00</td>\n",
       "    </tr>\n",
       "    <tr>\n",
       "      <th>75%</th>\n",
       "      <td>51.00</td>\n",
       "      <td>2.00</td>\n",
       "      <td>100.00</td>\n",
       "    </tr>\n",
       "    <tr>\n",
       "      <th>max</th>\n",
       "      <td>95.00</td>\n",
       "      <td>44.00</td>\n",
       "      <td>6755.00</td>\n",
       "    </tr>\n",
       "  </tbody>\n",
       "</table>\n",
       "</div>"
      ],
      "text/plain": [
       "             age  touch_book  get_book_u\n",
       "count  240324.00   240324.00   240324.00\n",
       "mean       39.93        1.99      386.97\n",
       "std        16.44        2.16     1268.81\n",
       "min         0.00        1.00        1.00\n",
       "25%        25.00        1.00       12.00\n",
       "50%        37.00        1.00       31.00\n",
       "75%        51.00        2.00      100.00\n",
       "max        95.00       44.00     6755.00"
      ]
     },
     "execution_count": 31,
     "metadata": {},
     "output_type": "execute_result"
    }
   ],
   "source": [
    "df.describe().round(2)"
   ]
  },
  {
   "cell_type": "code",
   "execution_count": 32,
   "metadata": {},
   "outputs": [
    {
     "data": {
      "image/png": "[encoded data removed]",
      "text/plain": [
       "<Figure size 432x288 with 1 Axes>"
      ]
     },
     "metadata": {
      "needs_background": "light"
     },
     "output_type": "display_data"
    }
   ],
   "source": [
    "ax=sns.boxplot(x='get_book_u', data=df) # определим выбросы по взятым книгам\n"
   ]
  },
  {
   "cell_type": "code",
   "execution_count": 33,
   "metadata": {},
   "outputs": [
    {
     "data": {
      "image/png": "[encoded data removed]",
      "text/plain": [
       "<Figure size 432x288 with 1 Axes>"
      ]
     },
     "metadata": {
      "needs_background": "light"
     },
     "output_type": "display_data"
    }
   ],
   "source": [
    "ax=sns.boxplot(x='touch_book', data=df) # определим выбросы по популярности книги\n"
   ]
  },
  {
   "cell_type": "code",
   "execution_count": 34,
   "metadata": {},
   "outputs": [
    {
     "data": {
      "text/plain": [
       "[(1.0, 200.0)]"
      ]
     },
     "execution_count": 34,
     "metadata": {},
     "output_type": "execute_result"
    },
    {
     "data": {
      "image/png": "[encoded data removed]",
      "text/plain": [
       "<Figure size 432x288 with 1 Axes>"
      ]
     },
     "metadata": {
      "needs_background": "light"
     },
     "output_type": "display_data"
    }
   ],
   "source": [
    "ax=sns.boxplot(x='get_book_u', data=df) # определим выбросы по взятым книгам\n",
    "ax.set(xlim=(1, 200))"
   ]
  },
  {
   "cell_type": "code",
   "execution_count": 35,
   "metadata": {},
   "outputs": [],
   "source": [
    "import scipy.stats as sps\n",
    "ddf = sps.trim_mean(df['get_book_u'], 0.1 )"
   ]
  },
  {
   "cell_type": "code",
   "execution_count": 36,
   "metadata": {},
   "outputs": [
    {
     "data": {
      "text/plain": [
       "65.38035992926245"
      ]
     },
     "execution_count": 36,
     "metadata": {},
     "output_type": "execute_result"
    }
   ],
   "source": [
    "ddf"
   ]
  },
  {
   "cell_type": "code",
   "execution_count": 37,
   "metadata": {},
   "outputs": [
    {
     "name": "stdout",
     "output_type": "stream",
     "text": [
      "4.0\n",
      "523.0\n"
     ]
    }
   ],
   "source": [
    "Q1 = df['get_book_u'].quantile(q=.05)\n",
    "Q3 = df['get_book_u'].quantile(q=.9)\n",
    "#IQR = df['get_book_u'].apply(sps.iqr)\n",
    "\n",
    "#only keep rows in dataframe that have values within 1.5\\*IQR of Q1 and Q3\n",
    "df_N_gb = df[(df['get_book_u'] > Q1) & (df['get_book_u'] < Q3)].copy()\n",
    "print(Q1)\n",
    "print(Q3)\n"
   ]
  },
  {
   "cell_type": "code",
   "execution_count": 38,
   "metadata": {},
   "outputs": [
    {
     "data": {
      "text/html": [
       "<div>\n",
       "<style scoped>\n",
       "    .dataframe tbody tr th:only-of-type {\n",
       "        vertical-align: middle;\n",
       "    }\n",
       "\n",
       "    .dataframe tbody tr th {\n",
       "        vertical-align: top;\n",
       "    }\n",
       "\n",
       "    .dataframe thead th {\n",
       "        text-align: right;\n",
       "    }\n",
       "</style>\n",
       "<table border=\"1\" class=\"dataframe\">\n",
       "  <thead>\n",
       "    <tr style=\"text-align: right;\">\n",
       "      <th></th>\n",
       "      <th>age</th>\n",
       "      <th>touch_book</th>\n",
       "      <th>get_book_u</th>\n",
       "    </tr>\n",
       "  </thead>\n",
       "  <tbody>\n",
       "    <tr>\n",
       "      <th>count</th>\n",
       "      <td>197347.00</td>\n",
       "      <td>197347.00</td>\n",
       "      <td>197347.00</td>\n",
       "    </tr>\n",
       "    <tr>\n",
       "      <th>mean</th>\n",
       "      <td>38.58</td>\n",
       "      <td>2.09</td>\n",
       "      <td>62.96</td>\n",
       "    </tr>\n",
       "    <tr>\n",
       "      <th>std</th>\n",
       "      <td>15.72</td>\n",
       "      <td>2.29</td>\n",
       "      <td>82.55</td>\n",
       "    </tr>\n",
       "    <tr>\n",
       "      <th>min</th>\n",
       "      <td>14.00</td>\n",
       "      <td>1.00</td>\n",
       "      <td>5.00</td>\n",
       "    </tr>\n",
       "    <tr>\n",
       "      <th>25%</th>\n",
       "      <td>25.00</td>\n",
       "      <td>1.00</td>\n",
       "      <td>13.00</td>\n",
       "    </tr>\n",
       "    <tr>\n",
       "      <th>50%</th>\n",
       "      <td>35.00</td>\n",
       "      <td>1.00</td>\n",
       "      <td>30.00</td>\n",
       "    </tr>\n",
       "    <tr>\n",
       "      <th>75%</th>\n",
       "      <td>49.00</td>\n",
       "      <td>2.00</td>\n",
       "      <td>73.00</td>\n",
       "    </tr>\n",
       "    <tr>\n",
       "      <th>max</th>\n",
       "      <td>95.00</td>\n",
       "      <td>44.00</td>\n",
       "      <td>515.00</td>\n",
       "    </tr>\n",
       "  </tbody>\n",
       "</table>\n",
       "</div>"
      ],
      "text/plain": [
       "             age  touch_book  get_book_u\n",
       "count  197347.00   197347.00   197347.00\n",
       "mean       38.58        2.09       62.96\n",
       "std        15.72        2.29       82.55\n",
       "min        14.00        1.00        5.00\n",
       "25%        25.00        1.00       13.00\n",
       "50%        35.00        1.00       30.00\n",
       "75%        49.00        2.00       73.00\n",
       "max        95.00       44.00      515.00"
      ]
     },
     "execution_count": 38,
     "metadata": {},
     "output_type": "execute_result"
    }
   ],
   "source": [
    "df_N_gb.describe().round(2)"
   ]
  },
  {
   "cell_type": "code",
   "execution_count": 39,
   "metadata": {},
   "outputs": [
    {
     "data": {
      "text/plain": [
       "<seaborn.axisgrid.FacetGrid at 0x20f82385ee0>"
      ]
     },
     "execution_count": 39,
     "metadata": {},
     "output_type": "execute_result"
    },
    {
     "data": {
      "image/png": "[encoded data removed]",
      "text/plain": [
       "<Figure size 360x360 with 1 Axes>"
      ]
     },
     "metadata": {
      "needs_background": "light"
     },
     "output_type": "display_data"
    }
   ],
   "source": [
    "ax = sns.displot(data=df_N_gb['get_book_u']) # определим выбросы по взятым книгам\n",
    "ax.set(xlim=(1, 180))"
   ]
  },
  {
   "cell_type": "code",
   "execution_count": 40,
   "metadata": {},
   "outputs": [
    {
     "data": {
      "image/png": "[encoded data removed]",
      "text/plain": [
       "<Figure size 360x360 with 1 Axes>"
      ]
     },
     "metadata": {
      "needs_background": "light"
     },
     "output_type": "display_data"
    }
   ],
   "source": [
    "ax = sns.displot(data=df_N_gb['touch_book']) # определим выбросы по популярности книги"
   ]
  },
  {
   "cell_type": "code",
   "execution_count": 41,
   "metadata": {},
   "outputs": [
    {
     "name": "stdout",
     "output_type": "stream",
     "text": [
      "количество книг с разными подразделами согласно шифров ББК  79097 - шт.\n",
      "количчество книг с связанными тематиками 1345 - шт.\n"
     ]
    }
   ],
   "source": [
    "print('количество книг с разными подразделами согласно шифров ББК ', df['bbk'].nunique(), '- шт.')\n",
    "print('количчество книг с связанными тематиками',  df['bbk'].str[:3].nunique(), '- шт.')\n",
    "df['bbk']=df['bbk'].str[:3] # оставляем похожие тематики."
   ]
  },
  {
   "cell_type": "code",
   "execution_count": 42,
   "metadata": {},
   "outputs": [
    {
     "name": "stdout",
     "output_type": "stream",
     "text": [
      "количество книг с разным номером всего взятых 240324 - шт.\n",
      "количество книг с одинаковым названием 176722 - шт.\n"
     ]
    }
   ],
   "source": [
    "print('количество книг с разным номером всего взятых', df['sys_numb'].count(), '- шт.')\n",
    "print('количество книг с одинаковым названием',  df['title'].nunique(), '- шт.')"
   ]
  },
  {
   "cell_type": "code",
   "execution_count": 43,
   "metadata": {},
   "outputs": [
    {
     "data": {
      "text/plain": [
       "<seaborn.axisgrid.FacetGrid at 0x20f83c0ef40>"
      ]
     },
     "execution_count": 43,
     "metadata": {},
     "output_type": "execute_result"
    },
    {
     "data": {
      "image/png": "[encoded data removed]",
      "text/plain": [
       "<Figure size 360x360 with 1 Axes>"
      ]
     },
     "metadata": {
      "needs_background": "light"
     },
     "output_type": "display_data"
    }
   ],
   "source": [
    "sns.displot(data=df['get_book_u'])"
   ]
  },
  {
   "cell_type": "code",
   "execution_count": 44,
   "metadata": {},
   "outputs": [],
   "source": [
    "df_title = pd.DataFrame(df['title'].unique(), columns=['title'] )"
   ]
  },
  {
   "cell_type": "code",
   "execution_count": 45,
   "metadata": {},
   "outputs": [],
   "source": [
    "df_title['new_sys_numb'] = range(1, len(df_title) + 1)"
   ]
  },
  {
   "cell_type": "code",
   "execution_count": 646,
   "metadata": {
    "scrolled": true
   },
   "outputs": [
    {
     "name": "stdout",
     "output_type": "stream",
     "text": [
      "<class 'pandas.core.frame.DataFrame'>\n",
      "RangeIndex: 176722 entries, 0 to 176721\n",
      "Data columns (total 2 columns):\n",
      " #   Column        Non-Null Count   Dtype \n",
      "---  ------        --------------   ----- \n",
      " 0   title         176722 non-null  object\n",
      " 1   new_sys_numb  176722 non-null  int64 \n",
      "dtypes: int64(1), object(1)\n",
      "memory usage: 2.7+ MB\n"
     ]
    }
   ],
   "source": [
    "df_title.info()"
   ]
  },
  {
   "cell_type": "code",
   "execution_count": 47,
   "metadata": {},
   "outputs": [],
   "source": [
    "df = df_N_gb.merge(df_title, on='title')"
   ]
  },
  {
   "cell_type": "code",
   "execution_count": 48,
   "metadata": {},
   "outputs": [
    {
     "data": {
      "text/plain": [
       "<AxesSubplot:>"
      ]
     },
     "execution_count": 48,
     "metadata": {},
     "output_type": "execute_result"
    },
    {
     "data": {
      "image/png": "[encoded data removed]",
      "text/plain": [
       "<Figure size 432x288 with 1 Axes>"
      ]
     },
     "metadata": {
      "needs_background": "light"
     },
     "output_type": "display_data"
    }
   ],
   "source": [
    "sns.heatmap(df.isnull(), yticklabels=False, cbar=False, cmap='viridis')"
   ]
  },
  {
   "cell_type": "code",
   "execution_count": 49,
   "metadata": {},
   "outputs": [
    {
     "name": "stdout",
     "output_type": "stream",
     "text": [
      "<class 'pandas.core.frame.DataFrame'>\n",
      "Int64Index: 197347 entries, 0 to 197346\n",
      "Data columns (total 13 columns):\n",
      " #   Column        Non-Null Count   Dtype         \n",
      "---  ------        --------------   -----         \n",
      " 0   chb           197347 non-null  object        \n",
      " 1   sys_numb      197347 non-null  object        \n",
      " 2   date_1        197347 non-null  datetime64[ns]\n",
      " 3   title         197347 non-null  object        \n",
      " 4   author        153541 non-null  object        \n",
      " 5   izd           132957 non-null  object        \n",
      " 6   year_izd      196037 non-null  object        \n",
      " 7   bbk           137944 non-null  object        \n",
      " 8   age           197347 non-null  int64         \n",
      " 9   gender        197347 non-null  int64         \n",
      " 10  touch_book    197347 non-null  int64         \n",
      " 11  get_book_u    197347 non-null  int64         \n",
      " 12  new_sys_numb  197347 non-null  int64         \n",
      "dtypes: datetime64[ns](1), int64(5), object(7)\n",
      "memory usage: 21.1+ MB\n"
     ]
    }
   ],
   "source": [
    "d = {'female':0, 'male':1, None:2}\n",
    "df['gender'] = df['gender'].apply(lambda x:d[x])\n",
    "df.info()"
   ]
  },
  {
   "cell_type": "code",
   "execution_count": 50,
   "metadata": {},
   "outputs": [
    {
     "data": {
      "text/html": [
       "<div>\n",
       "<style scoped>\n",
       "    .dataframe tbody tr th:only-of-type {\n",
       "        vertical-align: middle;\n",
       "    }\n",
       "\n",
       "    .dataframe tbody tr th {\n",
       "        vertical-align: top;\n",
       "    }\n",
       "\n",
       "    .dataframe thead th {\n",
       "        text-align: right;\n",
       "    }\n",
       "</style>\n",
       "<table border=\"1\" class=\"dataframe\">\n",
       "  <thead>\n",
       "    <tr style=\"text-align: right;\">\n",
       "      <th></th>\n",
       "      <th>chb</th>\n",
       "      <th>sys_numb</th>\n",
       "      <th>date_1</th>\n",
       "      <th>title</th>\n",
       "      <th>author</th>\n",
       "      <th>izd</th>\n",
       "      <th>year_izd</th>\n",
       "      <th>bbk</th>\n",
       "      <th>age</th>\n",
       "      <th>gender</th>\n",
       "      <th>touch_book</th>\n",
       "      <th>get_book_u</th>\n",
       "      <th>new_sys_numb</th>\n",
       "    </tr>\n",
       "  </thead>\n",
       "  <tbody>\n",
       "    <tr>\n",
       "      <th>1137</th>\n",
       "      <td>100001025944</td>\n",
       "      <td>RSL01007509032</td>\n",
       "      <td>2021-08-13</td>\n",
       "      <td>Собрание государственных грамот и договоров, х...</td>\n",
       "      <td>None</td>\n",
       "      <td>None</td>\n",
       "      <td>1822</td>\n",
       "      <td>None</td>\n",
       "      <td>69</td>\n",
       "      <td>2</td>\n",
       "      <td>2</td>\n",
       "      <td>216</td>\n",
       "      <td>288</td>\n",
       "    </tr>\n",
       "    <tr>\n",
       "      <th>3608</th>\n",
       "      <td>100001025944</td>\n",
       "      <td>RSL01001781072</td>\n",
       "      <td>2021-09-12</td>\n",
       "      <td>Сохранение памятников церковной старины в Росс...</td>\n",
       "      <td>None</td>\n",
       "      <td>Отечество</td>\n",
       "      <td>1997</td>\n",
       "      <td>None</td>\n",
       "      <td>69</td>\n",
       "      <td>2</td>\n",
       "      <td>3</td>\n",
       "      <td>216</td>\n",
       "      <td>5103</td>\n",
       "    </tr>\n",
       "    <tr>\n",
       "      <th>6623</th>\n",
       "      <td>100001025944</td>\n",
       "      <td>RSL01007548927</td>\n",
       "      <td>2021-01-14</td>\n",
       "      <td>Петербургские купцы, фабриканты и банкиры Штиг...</td>\n",
       "      <td>Лизунов, Павел Владимирович 1960-</td>\n",
       "      <td>Алетейя</td>\n",
       "      <td>2014</td>\n",
       "      <td>У03</td>\n",
       "      <td>69</td>\n",
       "      <td>2</td>\n",
       "      <td>3</td>\n",
       "      <td>216</td>\n",
       "      <td>7654</td>\n",
       "    </tr>\n",
       "    <tr>\n",
       "      <th>6740</th>\n",
       "      <td>100000983523</td>\n",
       "      <td>RSL01006509867</td>\n",
       "      <td>2021-11-19</td>\n",
       "      <td>Русская литература : социолого-синтетический о...</td>\n",
       "      <td>Сакулин, Павел Никитич (1869-1930)</td>\n",
       "      <td>None</td>\n",
       "      <td>1929</td>\n",
       "      <td>Ш5(</td>\n",
       "      <td>58</td>\n",
       "      <td>2</td>\n",
       "      <td>2</td>\n",
       "      <td>23</td>\n",
       "      <td>7710</td>\n",
       "    </tr>\n",
       "    <tr>\n",
       "      <th>11104</th>\n",
       "      <td>100001025944</td>\n",
       "      <td>RSL01010680542</td>\n",
       "      <td>2021-08-23</td>\n",
       "      <td>Монументальные памятники Российской империи : ...</td>\n",
       "      <td>Сокол, Кирилл Гелиевич</td>\n",
       "      <td>[б. и.]</td>\n",
       "      <td>2021</td>\n",
       "      <td>Т3(</td>\n",
       "      <td>69</td>\n",
       "      <td>2</td>\n",
       "      <td>4</td>\n",
       "      <td>216</td>\n",
       "      <td>14189</td>\n",
       "    </tr>\n",
       "    <tr>\n",
       "      <th>...</th>\n",
       "      <td>...</td>\n",
       "      <td>...</td>\n",
       "      <td>...</td>\n",
       "      <td>...</td>\n",
       "      <td>...</td>\n",
       "      <td>...</td>\n",
       "      <td>...</td>\n",
       "      <td>...</td>\n",
       "      <td>...</td>\n",
       "      <td>...</td>\n",
       "      <td>...</td>\n",
       "      <td>...</td>\n",
       "      <td>...</td>\n",
       "    </tr>\n",
       "    <tr>\n",
       "      <th>196079</th>\n",
       "      <td>300001092400</td>\n",
       "      <td>RSL01004984534</td>\n",
       "      <td>2021-09-07</td>\n",
       "      <td>Договорняк 2 : как покупают и продают матчи в ...</td>\n",
       "      <td>Матвеев, Алексей Викторович</td>\n",
       "      <td>Эксмо</td>\n",
       "      <td>2011</td>\n",
       "      <td>Ч51</td>\n",
       "      <td>34</td>\n",
       "      <td>2</td>\n",
       "      <td>1</td>\n",
       "      <td>6</td>\n",
       "      <td>174745</td>\n",
       "    </tr>\n",
       "    <tr>\n",
       "      <th>196080</th>\n",
       "      <td>300001092400</td>\n",
       "      <td>RSL01002981124</td>\n",
       "      <td>2021-07-16</td>\n",
       "      <td>Становление и развитие профессионального комме...</td>\n",
       "      <td>Починкин, Александр Владимирович</td>\n",
       "      <td>Изд-во Советский спорт</td>\n",
       "      <td>2006</td>\n",
       "      <td>Ч51</td>\n",
       "      <td>34</td>\n",
       "      <td>2</td>\n",
       "      <td>1</td>\n",
       "      <td>6</td>\n",
       "      <td>174746</td>\n",
       "    </tr>\n",
       "    <tr>\n",
       "      <th>196081</th>\n",
       "      <td>300001092400</td>\n",
       "      <td>RSL01002918061</td>\n",
       "      <td>2021-07-16</td>\n",
       "      <td>\"Спартак\" Москва \"Динамо\". Великое противостоя...</td>\n",
       "      <td>None</td>\n",
       "      <td>[б. и.]</td>\n",
       "      <td>2006</td>\n",
       "      <td>Ч51</td>\n",
       "      <td>34</td>\n",
       "      <td>2</td>\n",
       "      <td>1</td>\n",
       "      <td>6</td>\n",
       "      <td>174747</td>\n",
       "    </tr>\n",
       "    <tr>\n",
       "      <th>196082</th>\n",
       "      <td>300001092400</td>\n",
       "      <td>RSL01000683281</td>\n",
       "      <td>2021-07-16</td>\n",
       "      <td>Московский футбол. XX век</td>\n",
       "      <td>None</td>\n",
       "      <td>ВЛАДМО</td>\n",
       "      <td>2000</td>\n",
       "      <td>Ч51</td>\n",
       "      <td>34</td>\n",
       "      <td>2</td>\n",
       "      <td>2</td>\n",
       "      <td>6</td>\n",
       "      <td>174748</td>\n",
       "    </tr>\n",
       "    <tr>\n",
       "      <th>196083</th>\n",
       "      <td>300001092400</td>\n",
       "      <td>RSL01000683281</td>\n",
       "      <td>2021-09-07</td>\n",
       "      <td>Московский футбол. XX век</td>\n",
       "      <td>None</td>\n",
       "      <td>ВЛАДМО</td>\n",
       "      <td>2000</td>\n",
       "      <td>Ч51</td>\n",
       "      <td>34</td>\n",
       "      <td>2</td>\n",
       "      <td>2</td>\n",
       "      <td>6</td>\n",
       "      <td>174748</td>\n",
       "    </tr>\n",
       "  </tbody>\n",
       "</table>\n",
       "<p>349 rows × 13 columns</p>\n",
       "</div>"
      ],
      "text/plain": [
       "                 chb        sys_numb     date_1  \\\n",
       "1137    100001025944  RSL01007509032 2021-08-13   \n",
       "3608    100001025944  RSL01001781072 2021-09-12   \n",
       "6623    100001025944  RSL01007548927 2021-01-14   \n",
       "6740    100000983523  RSL01006509867 2021-11-19   \n",
       "11104   100001025944  RSL01010680542 2021-08-23   \n",
       "...              ...             ...        ...   \n",
       "196079  300001092400  RSL01004984534 2021-09-07   \n",
       "196080  300001092400  RSL01002981124 2021-07-16   \n",
       "196081  300001092400  RSL01002918061 2021-07-16   \n",
       "196082  300001092400  RSL01000683281 2021-07-16   \n",
       "196083  300001092400  RSL01000683281 2021-09-07   \n",
       "\n",
       "                                                    title  \\\n",
       "1137    Собрание государственных грамот и договоров, х...   \n",
       "3608    Сохранение памятников церковной старины в Росс...   \n",
       "6623    Петербургские купцы, фабриканты и банкиры Штиг...   \n",
       "6740    Русская литература : социолого-синтетический о...   \n",
       "11104   Монументальные памятники Российской империи : ...   \n",
       "...                                                   ...   \n",
       "196079  Договорняк 2 : как покупают и продают матчи в ...   \n",
       "196080  Становление и развитие профессионального комме...   \n",
       "196081  \"Спартак\" Москва \"Динамо\". Великое противостоя...   \n",
       "196082                         Московский футбол. XX век    \n",
       "196083                         Московский футбол. XX век    \n",
       "\n",
       "                                    author                     izd year_izd  \\\n",
       "1137                                  None                    None     1822   \n",
       "3608                                  None               Отечество     1997   \n",
       "6623     Лизунов, Павел Владимирович 1960-                 Алетейя     2014   \n",
       "6740    Сакулин, Павел Никитич (1869-1930)                    None     1929   \n",
       "11104               Сокол, Кирилл Гелиевич                 [б. и.]     2021   \n",
       "...                                    ...                     ...      ...   \n",
       "196079         Матвеев, Алексей Викторович                   Эксмо     2011   \n",
       "196080    Починкин, Александр Владимирович  Изд-во Советский спорт     2006   \n",
       "196081                                None                 [б. и.]     2006   \n",
       "196082                                None                  ВЛАДМО     2000   \n",
       "196083                                None                  ВЛАДМО     2000   \n",
       "\n",
       "         bbk  age  gender  touch_book  get_book_u  new_sys_numb  \n",
       "1137    None   69       2           2         216           288  \n",
       "3608    None   69       2           3         216          5103  \n",
       "6623     У03   69       2           3         216          7654  \n",
       "6740     Ш5(   58       2           2          23          7710  \n",
       "11104    Т3(   69       2           4         216         14189  \n",
       "...      ...  ...     ...         ...         ...           ...  \n",
       "196079   Ч51   34       2           1           6        174745  \n",
       "196080   Ч51   34       2           1           6        174746  \n",
       "196081   Ч51   34       2           1           6        174747  \n",
       "196082   Ч51   34       2           2           6        174748  \n",
       "196083   Ч51   34       2           2           6        174748  \n",
       "\n",
       "[349 rows x 13 columns]"
      ]
     },
     "execution_count": 50,
     "metadata": {},
     "output_type": "execute_result"
    }
   ],
   "source": [
    "df['bbk']=df['bbk'].str[:3] # оставляем похожие тематики.\n",
    "df[df['gender'] == 2]"
   ]
  },
  {
   "cell_type": "code",
   "execution_count": 51,
   "metadata": {},
   "outputs": [
    {
     "data": {
      "text/plain": [
       "143925"
      ]
     },
     "execution_count": 51,
     "metadata": {},
     "output_type": "execute_result"
    }
   ],
   "source": [
    "df['new_sys_numb'].nunique()"
   ]
  },
  {
   "cell_type": "code",
   "execution_count": 52,
   "metadata": {},
   "outputs": [
    {
     "data": {
      "text/plain": [
       "197347"
      ]
     },
     "execution_count": 52,
     "metadata": {},
     "output_type": "execute_result"
    }
   ],
   "source": [
    "df['new_sys_numb'].count()"
   ]
  },
  {
   "cell_type": "code",
   "execution_count": 53,
   "metadata": {},
   "outputs": [
    {
     "name": "stdout",
     "output_type": "stream",
     "text": [
      "<class 'pandas.core.frame.DataFrame'>\n",
      "Int64Index: 197347 entries, 0 to 197346\n",
      "Data columns (total 13 columns):\n",
      " #   Column        Non-Null Count   Dtype         \n",
      "---  ------        --------------   -----         \n",
      " 0   chb           197347 non-null  object        \n",
      " 1   sys_numb      197347 non-null  object        \n",
      " 2   date_1        197347 non-null  datetime64[ns]\n",
      " 3   title         197347 non-null  object        \n",
      " 4   author        153541 non-null  object        \n",
      " 5   izd           132957 non-null  object        \n",
      " 6   year_izd      196037 non-null  object        \n",
      " 7   bbk           137944 non-null  object        \n",
      " 8   age           197347 non-null  int64         \n",
      " 9   gender        197347 non-null  int64         \n",
      " 10  touch_book    197347 non-null  int64         \n",
      " 11  get_book_u    197347 non-null  int64         \n",
      " 12  new_sys_numb  197347 non-null  int64         \n",
      "dtypes: datetime64[ns](1), int64(5), object(7)\n",
      "memory usage: 21.1+ MB\n"
     ]
    }
   ],
   "source": [
    "items\n",
    "df.info()\n"
   ]
  },
  {
   "cell_type": "code",
   "execution_count": 54,
   "metadata": {},
   "outputs": [],
   "source": [
    "df.reset_index(drop=True, inplace=True)"
   ]
  },
  {
   "cell_type": "code",
   "execution_count": 55,
   "metadata": {},
   "outputs": [
    {
     "name": "stdout",
     "output_type": "stream",
     "text": [
      "дата начальная для данных 2021-01-01 00:00:00\n",
      "дата завершения для данных 2022-03-31 00:00:00\n"
     ]
    }
   ],
   "source": [
    "print('дата начальная для данных', df['date_1'].min())\n",
    "print('дата завершения для данных', df['date_1'].max())"
   ]
  },
  {
   "cell_type": "code",
   "execution_count": 56,
   "metadata": {},
   "outputs": [
    {
     "name": "stdout",
     "output_type": "stream",
     "text": [
      "Кол-во пользователей в выборки: 10311\n",
      "Кол-во документов в истории пользователей: 146537\n",
      "Общее кол-во документов в выборке: 146537\n"
     ]
    }
   ],
   "source": [
    "print(f\"Кол-во пользователей в выборки: {len(df['chb'].unique())}\")\n",
    "print(f\"Кол-во документов в истории пользователей: {len(df['sys_numb'].unique())}\")\n",
    "print(f\"Общее кол-во документов в выборке: {len(df['sys_numb'].unique())}\")"
   ]
  },
  {
   "cell_type": "code",
   "execution_count": 57,
   "metadata": {},
   "outputs": [
    {
     "data": {
      "text/plain": [
       "sys_numb        19.139463\n",
       "date_1          19.139463\n",
       "title           19.139463\n",
       "author          14.890990\n",
       "izd             12.894676\n",
       "year_izd        19.012414\n",
       "bbk             13.378334\n",
       "age             19.139463\n",
       "gender          19.139463\n",
       "touch_book      19.139463\n",
       "get_book_u      19.139463\n",
       "new_sys_numb    19.139463\n",
       "dtype: float64"
      ]
     },
     "execution_count": 57,
     "metadata": {},
     "output_type": "execute_result"
    }
   ],
   "source": [
    "df.groupby('chb').count().mean()"
   ]
  },
  {
   "cell_type": "code",
   "execution_count": 58,
   "metadata": {},
   "outputs": [],
   "source": [
    "items.dropna(subset=['title'], inplace=True) # удалим пустые \n",
    "items.reset_index(drop=True, inplace=True)\n",
    "items_i = items.merge(df, on='title')\n",
    "items_i.index = items_i['new_sys_numb']\n",
    "item_dic = items_i['title'].to_dict()"
   ]
  },
  {
   "cell_type": "code",
   "execution_count": 59,
   "metadata": {},
   "outputs": [
    {
     "data": {
      "text/plain": [
       "0"
      ]
     },
     "execution_count": 59,
     "metadata": {},
     "output_type": "execute_result"
    }
   ],
   "source": [
    "sum(items_i['new_sys_numb'].isnull())"
   ]
  },
  {
   "cell_type": "code",
   "execution_count": 60,
   "metadata": {},
   "outputs": [
    {
     "data": {
      "text/plain": [
       "<AxesSubplot:ylabel='new_sys_numb'>"
      ]
     },
     "execution_count": 60,
     "metadata": {},
     "output_type": "execute_result"
    },
    {
     "data": {
      "image/png": "[encoded data removed]",
      "text/plain": [
       "<Figure size 432x288 with 1 Axes>"
      ]
     },
     "metadata": {
      "needs_background": "light"
     },
     "output_type": "display_data"
    }
   ],
   "source": [
    "sns.heatmap(items_i.isnull(), yticklabels=False, cbar=False, cmap='viridis')"
   ]
  },
  {
   "cell_type": "code",
   "execution_count": 314,
   "metadata": {},
   "outputs": [],
   "source": [
    "grap.clear()"
   ]
  },
  {
   "cell_type": "code",
   "execution_count": 315,
   "metadata": {},
   "outputs": [],
   "source": [
    "G = nx.Graph()"
   ]
  },
  {
   "cell_type": "code",
   "execution_count": 316,
   "metadata": {},
   "outputs": [],
   "source": [
    "new_sys_numb = df_title['new_sys_numb'].to_list()"
   ]
  },
  {
   "cell_type": "code",
   "execution_count": 317,
   "metadata": {},
   "outputs": [],
   "source": [
    "G.add_nodes_from(new_sys_numb)"
   ]
  },
  {
   "cell_type": "code",
   "execution_count": 318,
   "metadata": {},
   "outputs": [],
   "source": [
    "def complete_graph(gra, df_g, chb_key, n_s_b_key ):\n",
    "    chb = df[chb_key].unique()\n",
    "    for i_chb in tqdm(chb):\n",
    "        n_s_n = df_g[df_g[chb_key] == i_chb][n_s_b_key].to_list()\n",
    "        d = itertools.combinations(n_s_n, 2)   \n",
    "        for item in d:\n",
    "            subject_id, object_id = item\n",
    "            if gra.has_edge(subject_id, object_id):\n",
    "                G[subject_id][object_id]['weight'] += 1\n",
    "            else:\n",
    "                # new edge. add with weight=1\n",
    "                G.add_edge(subject_id, object_id, weight=1)\n",
    "                \n",
    "    return gra"
   ]
  },
  {
   "cell_type": "code",
   "execution_count": 319,
   "metadata": {},
   "outputs": [
    {
     "data": {
      "application/vnd.jupyter.widget-view+json": {
       "model_id": "07b44f8a2e5c43d8a96c6a5c905291d4",
       "version_major": 2,
       "version_minor": 0
      },
      "text/plain": [
       "  0%|          | 0/10311 [00:00<?, ?it/s]"
      ]
     },
     "metadata": {},
     "output_type": "display_data"
    }
   ],
   "source": [
    "grap = complete_graph(G, df, 'chb', 'new_sys_numb') # добавляем веса в граф, если веса нет устанавливаем 1 если появилась еще одна связь добавляем 1"
   ]
  },
  {
   "cell_type": "markdown",
   "metadata": {},
   "source": [
    "# создаем список пользователей взятых книг"
   ]
  },
  {
   "cell_type": "code",
   "execution_count": 310,
   "metadata": {},
   "outputs": [],
   "source": [
    "def save_dict_to_file(dic, name_file):\n",
    "    f = open(f'{name_file}.txt','w')\n",
    "    f.write(str(dic))\n",
    "    f.close()\n",
    "\n",
    "def load_dict_from_file(name_file):\n",
    "    f = open(f'{name_file}.txt','r')\n",
    "    data=f.read()\n",
    "    f.close()\n",
    "    return eval(data)"
   ]
  },
  {
   "cell_type": "code",
   "execution_count": 123,
   "metadata": {},
   "outputs": [],
   "source": [
    "def list_chb_book(df_b): # создаем список книг по каждому пользователю по убыванию  даты получения\n",
    "    get_book_user={}\n",
    "    chb = df['chb'].unique()\n",
    "    df_b = df_b.sort_values(by = 'date_1', ascending=False).copy()\n",
    "    for i in tqdm(chb):        \n",
    "        one_user = []\n",
    "        idex_row=[]\n",
    "        #print(type(i))\n",
    "        for s, row in df_b.iterrows():\n",
    "            #print(type(row['chb']))\n",
    "            if i == row['chb']:\n",
    "                #print('chb the ->', row['chb'], 'and new_sys_numb ->', row['new_sys_numb'])\n",
    "                one_user.append(row['new_sys_numb'])\n",
    "                idex_row.append(s)\n",
    "        df_b.drop(labels = idex_row, axis = 0, inplace = True)            \n",
    "        get_book_user[i]=one_user\n",
    "        # print(df_b['chb'].count())\n",
    "    save_dict_to_file(get_book_user, 'get_book_user')    # сохраним т.к. заняло 20 часов"
   ]
  },
  {
   "cell_type": "code",
   "execution_count": 124,
   "metadata": {},
   "outputs": [
    {
     "data": {
      "application/vnd.jupyter.widget-view+json": {
       "model_id": "9372b47f314e466099c622c97b922e3e",
       "version_major": 2,
       "version_minor": 0
      },
      "text/plain": [
       "  0%|          | 0/10311 [00:00<?, ?it/s]"
      ]
     },
     "metadata": {},
     "output_type": "display_data"
    }
   ],
   "source": [
    "list_chb_book(df)"
   ]
  },
  {
   "cell_type": "code",
   "execution_count": 128,
   "metadata": {},
   "outputs": [],
   "source": [
    "g_b_u=load_dict_from_file('get_book_user') #загрузим в переменную словарь с пользователь Х книги "
   ]
  },
  {
   "cell_type": "code",
   "execution_count": 367,
   "metadata": {},
   "outputs": [
    {
     "data": {
      "text/plain": [
       "[20683, 20776, 20689, 20678, 20647]"
      ]
     },
     "execution_count": 367,
     "metadata": {},
     "output_type": "execute_result"
    }
   ],
   "source": [
    "g_b_u['100001025944'][:5] #-------------------"
   ]
  },
  {
   "cell_type": "code",
   "execution_count": 320,
   "metadata": {},
   "outputs": [
    {
     "name": "stdout",
     "output_type": "stream",
     "text": [
      "Graph with 1 nodes and 0 edges\n"
     ]
    }
   ],
   "source": [
    "print(nx.subgraph(grap, [129893])) #-------------------"
   ]
  },
  {
   "cell_type": "code",
   "execution_count": 321,
   "metadata": {},
   "outputs": [
    {
     "name": "stdout",
     "output_type": "stream",
     "text": [
      "275 276 352\n"
     ]
    }
   ],
   "source": [
    "print(*nx.common_neighbors(grap, 351, 353)) # общие соседи двух узлов графа #-------------------"
   ]
  },
  {
   "cell_type": "code",
   "execution_count": 322,
   "metadata": {},
   "outputs": [
    {
     "name": "stdout",
     "output_type": "stream",
     "text": [
      "275 276 352 353 7697 8612 9047 21296 29164 49200 53491 53492 61569 61570 61571 61572 1455 61573 61574 61575 61576 61577 61578 61579 61580 61581 61582 61583 61584 61585 61586 61587 61588 61589 61590 61591 61592 61593 61594 16260 55644 61286 62464 69047 97601 116724 116725 116726 116727 116728 116729 116730 116731 116732 116733 116734\n"
     ]
    }
   ],
   "source": [
    "print(*nx.all_neighbors(grap, 351)) # Возвращает все соседние узлы в графе. #-------------------"
   ]
  },
  {
   "cell_type": "code",
   "execution_count": 337,
   "metadata": {},
   "outputs": [
    {
     "name": "stdout",
     "output_type": "stream",
     "text": [
      "2\n"
     ]
    }
   ],
   "source": [
    "print(nx.path_weight(grap, [275, 351, 49200], 'weight')) # Возвращает общую стоимость, связанную с указанным путем и весом.е. #-------------------"
   ]
  },
  {
   "cell_type": "code",
   "execution_count": 338,
   "metadata": {},
   "outputs": [],
   "source": [
    "weight_b = nx.get_edge_attributes(grap, 'weight') # создадим словарь с весами между книгами"
   ]
  },
  {
   "cell_type": "code",
   "execution_count": 339,
   "metadata": {},
   "outputs": [],
   "source": [
    "save_dict_to_file(weight_b, 'weight_b') #-------------------"
   ]
  },
  {
   "cell_type": "code",
   "execution_count": 340,
   "metadata": {},
   "outputs": [
    {
     "data": {
      "text/plain": [
       "3530"
      ]
     },
     "execution_count": 340,
     "metadata": {},
     "output_type": "execute_result"
    }
   ],
   "source": [
    "weight_b[(275, 276)] #-------------------"
   ]
  },
  {
   "cell_type": "code",
   "execution_count": 341,
   "metadata": {},
   "outputs": [
    {
     "name": "stdout",
     "output_type": "stream",
     "text": [
      "                                              title  new_sys_numb\n",
      "275  С Рождеством Христовым! Изоматериал : Открытка           276\n",
      "                                             title  new_sys_numb\n",
      "274  С Рождеством Христовым Изоматериал : Открытка           275\n"
     ]
    }
   ],
   "source": [
    "print(df_title[df_title['new_sys_numb']==276]) #-------------------\n",
    "print(df_title[df_title['new_sys_numb']==275]) # максимальное пересечение книг между пользователями"
   ]
  },
  {
   "cell_type": "code",
   "execution_count": 562,
   "metadata": {},
   "outputs": [],
   "source": [
    "users_reg = pd.read_csv('sample_solution.csv', sep=';', index_col=None, \n",
    "                    dtype={'chb': str})\n",
    "u_reg=users_reg['chb'].unique()"
   ]
  },
  {
   "cell_type": "code",
   "execution_count": 563,
   "metadata": {},
   "outputs": [
    {
     "data": {
      "text/plain": [
       "array(['100001051682', '300000798074', '200000875892', ...,\n",
       "       '300001064154', '200001057984', '200001039283'], dtype=object)"
      ]
     },
     "execution_count": 563,
     "metadata": {},
     "output_type": "execute_result"
    }
   ],
   "source": [
    "u_reg"
   ]
  },
  {
   "cell_type": "code",
   "execution_count": 579,
   "metadata": {},
   "outputs": [],
   "source": [
    "def recomendat(u_reg):\n",
    "    data=[]\n",
    "    for u in tqdm(u_reg):\n",
    "        #print(u)\n",
    "        if u in g_b_u:\n",
    "            u_get_book = user_U(g_b_u[u])\n",
    "            for i in u_get_book:\n",
    "                data.append([u, i])\n",
    "        else: \n",
    "            for m in max_touch_book:\n",
    "                data.append([u, m])\n",
    "            \n",
    "    df_t = pd.DataFrame(data, columns=['chb' , 'new_sys_numb'])\n",
    "    return df_t"
   ]
  },
  {
   "cell_type": "code",
   "execution_count": 588,
   "metadata": {},
   "outputs": [],
   "source": [
    "def user_U(u): # передаем список книг\n",
    "    \n",
    "    u_res = set()\n",
    "    while len(u_res) < 20:\n",
    "        for i in u :\n",
    "            for ii in book_max_w(i):\n",
    "                u_res.update({ii})\n",
    "                u_res.difference(set(u))\n",
    "                if len(u_res) == 20:\n",
    "                    return u_res\n",
    "        for im in max_touch_book:\n",
    "            u_res.update({im})\n",
    "            u_res.difference(set(u))\n",
    "            if len(u_res) == 20:\n",
    "                    return u_res\n",
    "        \n",
    "                   "
   ]
  },
  {
   "cell_type": "code",
   "execution_count": 581,
   "metadata": {},
   "outputs": [],
   "source": [
    "def book_max_w(bok): # возращает список книг связанные с входной по индексам можно судить о мах связей\n",
    "\n",
    "    \n",
    "   # l_bok = nx.common_neighbors(grap, bok1, bok2) # общие соседи двух узлов графа #-------------------\n",
    "    \n",
    "    l_bok = list(nx.all_neighbors(grap, bok))\n",
    "    l_bok.sort(key=lambda n: get_w(bok, n), reverse=True)\n",
    "    return l_bok"
   ]
  },
  {
   "cell_type": "code",
   "execution_count": 582,
   "metadata": {},
   "outputs": [],
   "source": [
    "def get_w(bok, bok_s):\n",
    "    if bok < bok_s:\n",
    "        return grap[bok][bok_s]['weight']\n",
    "    else:\n",
    "        return grap[bok_s][bok]['weight']"
   ]
  },
  {
   "cell_type": "code",
   "execution_count": 555,
   "metadata": {},
   "outputs": [
    {
     "data": {
      "text/plain": [
       "{20514,\n",
       " 42973,\n",
       " 56123,\n",
       " 84121,\n",
       " 87113,\n",
       " 94004,\n",
       " 102638,\n",
       " 102639,\n",
       " 102640,\n",
       " 102641,\n",
       " 102642,\n",
       " 102643,\n",
       " 102645,\n",
       " 102646,\n",
       " 102647,\n",
       " 102648,\n",
       " 102649,\n",
       " 102650,\n",
       " 102651,\n",
       " 102652}"
      ]
     },
     "execution_count": 555,
     "metadata": {},
     "output_type": "execute_result"
    }
   ],
   "source": [
    "(user_U(g_b_u['200001039283']))"
   ]
  },
  {
   "cell_type": "code",
   "execution_count": 589,
   "metadata": {},
   "outputs": [
    {
     "data": {
      "application/vnd.jupyter.widget-view+json": {
       "model_id": "92f7b235199040f1a5b365dfbd8cf173",
       "version_major": 2,
       "version_minor": 0
      },
      "text/plain": [
       "  0%|          | 0/16753 [00:00<?, ?it/s]"
      ]
     },
     "metadata": {},
     "output_type": "display_data"
    }
   ],
   "source": [
    "reg_df = recomendat(u_reg)"
   ]
  },
  {
   "cell_type": "code",
   "execution_count": 590,
   "metadata": {},
   "outputs": [
    {
     "data": {
      "text/html": [
       "<div>\n",
       "<style scoped>\n",
       "    .dataframe tbody tr th:only-of-type {\n",
       "        vertical-align: middle;\n",
       "    }\n",
       "\n",
       "    .dataframe tbody tr th {\n",
       "        vertical-align: top;\n",
       "    }\n",
       "\n",
       "    .dataframe thead th {\n",
       "        text-align: right;\n",
       "    }\n",
       "</style>\n",
       "<table border=\"1\" class=\"dataframe\">\n",
       "  <thead>\n",
       "    <tr style=\"text-align: right;\">\n",
       "      <th></th>\n",
       "      <th>chb</th>\n",
       "      <th>new_sys_numb</th>\n",
       "    </tr>\n",
       "  </thead>\n",
       "  <tbody>\n",
       "    <tr>\n",
       "      <th>0</th>\n",
       "      <td>100001051682</td>\n",
       "      <td>100171</td>\n",
       "    </tr>\n",
       "    <tr>\n",
       "      <th>1</th>\n",
       "      <td>100001051682</td>\n",
       "      <td>16560</td>\n",
       "    </tr>\n",
       "    <tr>\n",
       "      <th>2</th>\n",
       "      <td>100001051682</td>\n",
       "      <td>53759</td>\n",
       "    </tr>\n",
       "    <tr>\n",
       "      <th>3</th>\n",
       "      <td>100001051682</td>\n",
       "      <td>31726</td>\n",
       "    </tr>\n",
       "    <tr>\n",
       "      <th>4</th>\n",
       "      <td>100001051682</td>\n",
       "      <td>46013</td>\n",
       "    </tr>\n",
       "    <tr>\n",
       "      <th>...</th>\n",
       "      <td>...</td>\n",
       "      <td>...</td>\n",
       "    </tr>\n",
       "    <tr>\n",
       "      <th>335055</th>\n",
       "      <td>200001039283</td>\n",
       "      <td>16560</td>\n",
       "    </tr>\n",
       "    <tr>\n",
       "      <th>335056</th>\n",
       "      <td>200001039283</td>\n",
       "      <td>137977</td>\n",
       "    </tr>\n",
       "    <tr>\n",
       "      <th>335057</th>\n",
       "      <td>200001039283</td>\n",
       "      <td>103100</td>\n",
       "    </tr>\n",
       "    <tr>\n",
       "      <th>335058</th>\n",
       "      <td>200001039283</td>\n",
       "      <td>46013</td>\n",
       "    </tr>\n",
       "    <tr>\n",
       "      <th>335059</th>\n",
       "      <td>200001039283</td>\n",
       "      <td>53759</td>\n",
       "    </tr>\n",
       "  </tbody>\n",
       "</table>\n",
       "<p>335060 rows × 2 columns</p>\n",
       "</div>"
      ],
      "text/plain": [
       "                 chb  new_sys_numb\n",
       "0       100001051682        100171\n",
       "1       100001051682         16560\n",
       "2       100001051682         53759\n",
       "3       100001051682         31726\n",
       "4       100001051682         46013\n",
       "...              ...           ...\n",
       "335055  200001039283         16560\n",
       "335056  200001039283        137977\n",
       "335057  200001039283        103100\n",
       "335058  200001039283         46013\n",
       "335059  200001039283         53759\n",
       "\n",
       "[335060 rows x 2 columns]"
      ]
     },
     "execution_count": 590,
     "metadata": {},
     "output_type": "execute_result"
    }
   ],
   "source": [
    "reg_df"
   ]
  },
  {
   "cell_type": "code",
   "execution_count": 591,
   "metadata": {},
   "outputs": [],
   "source": [
    "t_df = df[['new_sys_numb', 'sys_numb']].copy()"
   ]
  },
  {
   "cell_type": "code",
   "execution_count": 592,
   "metadata": {},
   "outputs": [],
   "source": [
    "t_df.drop_duplicates(subset='new_sys_numb')\n",
    "t_dic = dict(t_df.values)"
   ]
  },
  {
   "cell_type": "code",
   "execution_count": 593,
   "metadata": {},
   "outputs": [],
   "source": [
    "reg_df['new_sys_numb'] = reg_df['new_sys_numb'].apply(lambda x:t_dic[x])"
   ]
  },
  {
   "cell_type": "code",
   "execution_count": 594,
   "metadata": {},
   "outputs": [],
   "source": [
    "reg_df.rename(columns={'new_sys_numb': 'sys_numb'}, inplace=True)"
   ]
  },
  {
   "cell_type": "code",
   "execution_count": 595,
   "metadata": {},
   "outputs": [
    {
     "data": {
      "text/html": [
       "<div>\n",
       "<style scoped>\n",
       "    .dataframe tbody tr th:only-of-type {\n",
       "        vertical-align: middle;\n",
       "    }\n",
       "\n",
       "    .dataframe tbody tr th {\n",
       "        vertical-align: top;\n",
       "    }\n",
       "\n",
       "    .dataframe thead th {\n",
       "        text-align: right;\n",
       "    }\n",
       "</style>\n",
       "<table border=\"1\" class=\"dataframe\">\n",
       "  <thead>\n",
       "    <tr style=\"text-align: right;\">\n",
       "      <th></th>\n",
       "      <th>chb</th>\n",
       "      <th>sys_numb</th>\n",
       "    </tr>\n",
       "  </thead>\n",
       "  <tbody>\n",
       "    <tr>\n",
       "      <th>0</th>\n",
       "      <td>100001051682</td>\n",
       "      <td>RSL01004357029</td>\n",
       "    </tr>\n",
       "    <tr>\n",
       "      <th>1</th>\n",
       "      <td>100001051682</td>\n",
       "      <td>RSL01006724299</td>\n",
       "    </tr>\n",
       "    <tr>\n",
       "      <th>2</th>\n",
       "      <td>100001051682</td>\n",
       "      <td>RSL01010175347</td>\n",
       "    </tr>\n",
       "    <tr>\n",
       "      <th>3</th>\n",
       "      <td>100001051682</td>\n",
       "      <td>RSL01007886433</td>\n",
       "    </tr>\n",
       "    <tr>\n",
       "      <th>4</th>\n",
       "      <td>100001051682</td>\n",
       "      <td>RSL01004400764</td>\n",
       "    </tr>\n",
       "    <tr>\n",
       "      <th>...</th>\n",
       "      <td>...</td>\n",
       "      <td>...</td>\n",
       "    </tr>\n",
       "    <tr>\n",
       "      <th>335055</th>\n",
       "      <td>200001039283</td>\n",
       "      <td>RSL01006724299</td>\n",
       "    </tr>\n",
       "    <tr>\n",
       "      <th>335056</th>\n",
       "      <td>200001039283</td>\n",
       "      <td>RSL01000193246</td>\n",
       "    </tr>\n",
       "    <tr>\n",
       "      <th>335057</th>\n",
       "      <td>200001039283</td>\n",
       "      <td>RSL01003955862</td>\n",
       "    </tr>\n",
       "    <tr>\n",
       "      <th>335058</th>\n",
       "      <td>200001039283</td>\n",
       "      <td>RSL01004400764</td>\n",
       "    </tr>\n",
       "    <tr>\n",
       "      <th>335059</th>\n",
       "      <td>200001039283</td>\n",
       "      <td>RSL01010175347</td>\n",
       "    </tr>\n",
       "  </tbody>\n",
       "</table>\n",
       "<p>335060 rows × 2 columns</p>\n",
       "</div>"
      ],
      "text/plain": [
       "                 chb        sys_numb\n",
       "0       100001051682  RSL01004357029\n",
       "1       100001051682  RSL01006724299\n",
       "2       100001051682  RSL01010175347\n",
       "3       100001051682  RSL01007886433\n",
       "4       100001051682  RSL01004400764\n",
       "...              ...             ...\n",
       "335055  200001039283  RSL01006724299\n",
       "335056  200001039283  RSL01000193246\n",
       "335057  200001039283  RSL01003955862\n",
       "335058  200001039283  RSL01004400764\n",
       "335059  200001039283  RSL01010175347\n",
       "\n",
       "[335060 rows x 2 columns]"
      ]
     },
     "execution_count": 595,
     "metadata": {},
     "output_type": "execute_result"
    }
   ],
   "source": [
    "reg_df"
   ]
  },
  {
   "cell_type": "code",
   "execution_count": null,
   "metadata": {},
   "outputs": [],
   "source": []
  },
  {
   "cell_type": "code",
   "execution_count": null,
   "metadata": {},
   "outputs": [],
   "source": []
  },
  {
   "cell_type": "code",
   "execution_count": 596,
   "metadata": {},
   "outputs": [],
   "source": [
    "reg_df.to_csv('my_topT_solution.csv', index=False, sep=';')"
   ]
  },
  {
   "cell_type": "code",
   "execution_count": 461,
   "metadata": {},
   "outputs": [],
   "source": [
    "df_max_touch_book = df.drop_duplicates(subset=['new_sys_numb']).copy()\n",
    "#df[df['new_sys_numb'] == list(df['new_sys_numb'].unique()]"
   ]
  },
  {
   "cell_type": "code",
   "execution_count": 462,
   "metadata": {},
   "outputs": [],
   "source": [
    "max_touch_book = list(df_max_touch_book.sort_values(by='touch_book', ascending=False)['new_sys_numb'].head(20))"
   ]
  },
  {
   "cell_type": "code",
   "execution_count": 463,
   "metadata": {},
   "outputs": [
    {
     "data": {
      "text/plain": [
       "[100171,\n",
       " 16560,\n",
       " 53759,\n",
       " 31726,\n",
       " 46013,\n",
       " 53760,\n",
       " 53716,\n",
       " 85036,\n",
       " 17643,\n",
       " 141840,\n",
       " 31978,\n",
       " 144616,\n",
       " 109952,\n",
       " 137977,\n",
       " 103100,\n",
       " 7653,\n",
       " 14308,\n",
       " 114774,\n",
       " 55644,\n",
       " 79888]"
      ]
     },
     "execution_count": 463,
     "metadata": {},
     "output_type": "execute_result"
    }
   ],
   "source": [
    "max_touch_book"
   ]
  }
 ],
 "metadata": {
  "colab": {
   "collapsed_sections": [],
   "name": "baseline.ipynb",
   "provenance": []
  },
  "kernelspec": {
   "display_name": "Python 3 (ipykernel)",
   "language": "python",
   "name": "python3"
  },
  "language_info": {
   "codemirror_mode": {
    "name": "ipython",
    "version": 3
   },
   "file_extension": ".py",
   "mimetype": "text/x-python",
   "name": "python",
   "nbconvert_exporter": "python",
   "pygments_lexer": "ipython3",
   "version": "3.9.12"
  },
  "widgets": {
   "application/vnd.jupyter.widget-state+json": {
    "0593ed0e5f114ce19b98638ebff2e107": {
     "model_module": "@jupyter-widgets/base",
     "model_module_version": "1.2.0",
     "model_name": "LayoutModel",
     "state": {
      "_model_module": "@jupyter-widgets/base",
      "_model_module_version": "1.2.0",
      "_model_name": "LayoutModel",
      "_view_count": null,
      "_view_module": "@jupyter-widgets/base",
      "_view_module_version": "1.2.0",
      "_view_name": "LayoutView",
      "align_content": null,
      "align_items": null,
      "align_self": null,
      "border": null,
      "bottom": null,
      "display": null,
      "flex": null,
      "flex_flow": null,
      "grid_area": null,
      "grid_auto_columns": null,
      "grid_auto_flow": null,
      "grid_auto_rows": null,
      "grid_column": null,
      "grid_gap": null,
      "grid_row": null,
      "grid_template_areas": null,
      "grid_template_columns": null,
      "grid_template_rows": null,
      "height": null,
      "justify_content": null,
      "justify_items": null,
      "left": null,
      "margin": null,
      "max_height": null,
      "max_width": null,
      "min_height": null,
      "min_width": null,
      "object_fit": null,
      "object_position": null,
      "order": null,
      "overflow": null,
      "overflow_x": null,
      "overflow_y": null,
      "padding": null,
      "right": null,
      "top": null,
      "visibility": null,
      "width": null
     }
    },
    "0a8179380583411785f4610ab541d6ec": {
     "model_module": "@jupyter-widgets/controls",
     "model_module_version": "1.5.0",
     "model_name": "DescriptionStyleModel",
     "state": {
      "_model_module": "@jupyter-widgets/controls",
      "_model_module_version": "1.5.0",
      "_model_name": "DescriptionStyleModel",
      "_view_count": null,
      "_view_module": "@jupyter-widgets/base",
      "_view_module_version": "1.2.0",
      "_view_name": "StyleView",
      "description_width": ""
     }
    },
    "1af4fefd505f48d794821396f5b9fc1b": {
     "model_module": "@jupyter-widgets/controls",
     "model_module_version": "1.5.0",
     "model_name": "FloatProgressModel",
     "state": {
      "_dom_classes": [],
      "_model_module": "@jupyter-widgets/controls",
      "_model_module_version": "1.5.0",
      "_model_name": "FloatProgressModel",
      "_view_count": null,
      "_view_module": "@jupyter-widgets/controls",
      "_view_module_version": "1.5.0",
      "_view_name": "ProgressView",
      "bar_style": "success",
      "description": "",
      "description_tooltip": null,
      "layout": "IPY_MODEL_0593ed0e5f114ce19b98638ebff2e107",
      "max": 15,
      "min": 0,
      "orientation": "horizontal",
      "style": "IPY_MODEL_fac76e7c28494a078cea00a3503e6ae4",
      "value": 15
     }
    },
    "1fcd51026434444fba4c19e014a4fd44": {
     "model_module": "@jupyter-widgets/base",
     "model_module_version": "1.2.0",
     "model_name": "LayoutModel",
     "state": {
      "_model_module": "@jupyter-widgets/base",
      "_model_module_version": "1.2.0",
      "_model_name": "LayoutModel",
      "_view_count": null,
      "_view_module": "@jupyter-widgets/base",
      "_view_module_version": "1.2.0",
      "_view_name": "LayoutView",
      "align_content": null,
      "align_items": null,
      "align_self": null,
      "border": null,
      "bottom": null,
      "display": null,
      "flex": null,
      "flex_flow": null,
      "grid_area": null,
      "grid_auto_columns": null,
      "grid_auto_flow": null,
      "grid_auto_rows": null,
      "grid_column": null,
      "grid_gap": null,
      "grid_row": null,
      "grid_template_areas": null,
      "grid_template_columns": null,
      "grid_template_rows": null,
      "height": null,
      "justify_content": null,
      "justify_items": null,
      "left": null,
      "margin": null,
      "max_height": null,
      "max_width": null,
      "min_height": null,
      "min_width": null,
      "object_fit": null,
      "object_position": null,
      "order": null,
      "overflow": null,
      "overflow_x": null,
      "overflow_y": null,
      "padding": null,
      "right": null,
      "top": null,
      "visibility": null,
      "width": null
     }
    },
    "224b4e830a974af7a2b3d50f7964e63d": {
     "model_module": "@jupyter-widgets/base",
     "model_module_version": "1.2.0",
     "model_name": "LayoutModel",
     "state": {
      "_model_module": "@jupyter-widgets/base",
      "_model_module_version": "1.2.0",
      "_model_name": "LayoutModel",
      "_view_count": null,
      "_view_module": "@jupyter-widgets/base",
      "_view_module_version": "1.2.0",
      "_view_name": "LayoutView",
      "align_content": null,
      "align_items": null,
      "align_self": null,
      "border": null,
      "bottom": null,
      "display": null,
      "flex": null,
      "flex_flow": null,
      "grid_area": null,
      "grid_auto_columns": null,
      "grid_auto_flow": null,
      "grid_auto_rows": null,
      "grid_column": null,
      "grid_gap": null,
      "grid_row": null,
      "grid_template_areas": null,
      "grid_template_columns": null,
      "grid_template_rows": null,
      "height": null,
      "justify_content": null,
      "justify_items": null,
      "left": null,
      "margin": null,
      "max_height": null,
      "max_width": null,
      "min_height": null,
      "min_width": null,
      "object_fit": null,
      "object_position": null,
      "order": null,
      "overflow": null,
      "overflow_x": null,
      "overflow_y": null,
      "padding": null,
      "right": null,
      "top": null,
      "visibility": null,
      "width": null
     }
    },
    "23d91341a43349b9a49f19ffd81c9e02": {
     "model_module": "@jupyter-widgets/controls",
     "model_module_version": "1.5.0",
     "model_name": "DescriptionStyleModel",
     "state": {
      "_model_module": "@jupyter-widgets/controls",
      "_model_module_version": "1.5.0",
      "_model_name": "DescriptionStyleModel",
      "_view_count": null,
      "_view_module": "@jupyter-widgets/base",
      "_view_module_version": "1.2.0",
      "_view_name": "StyleView",
      "description_width": ""
     }
    },
    "313a2d8b1d0d4da791ce6a926e15fa19": {
     "model_module": "@jupyter-widgets/controls",
     "model_module_version": "1.5.0",
     "model_name": "ProgressStyleModel",
     "state": {
      "_model_module": "@jupyter-widgets/controls",
      "_model_module_version": "1.5.0",
      "_model_name": "ProgressStyleModel",
      "_view_count": null,
      "_view_module": "@jupyter-widgets/base",
      "_view_module_version": "1.2.0",
      "_view_name": "StyleView",
      "bar_color": null,
      "description_width": ""
     }
    },
    "3a361ace8315401b9faf50b7e377b654": {
     "model_module": "@jupyter-widgets/base",
     "model_module_version": "1.2.0",
     "model_name": "LayoutModel",
     "state": {
      "_model_module": "@jupyter-widgets/base",
      "_model_module_version": "1.2.0",
      "_model_name": "LayoutModel",
      "_view_count": null,
      "_view_module": "@jupyter-widgets/base",
      "_view_module_version": "1.2.0",
      "_view_name": "LayoutView",
      "align_content": null,
      "align_items": null,
      "align_self": null,
      "border": null,
      "bottom": null,
      "display": null,
      "flex": null,
      "flex_flow": null,
      "grid_area": null,
      "grid_auto_columns": null,
      "grid_auto_flow": null,
      "grid_auto_rows": null,
      "grid_column": null,
      "grid_gap": null,
      "grid_row": null,
      "grid_template_areas": null,
      "grid_template_columns": null,
      "grid_template_rows": null,
      "height": null,
      "justify_content": null,
      "justify_items": null,
      "left": null,
      "margin": null,
      "max_height": null,
      "max_width": null,
      "min_height": null,
      "min_width": null,
      "object_fit": null,
      "object_position": null,
      "order": null,
      "overflow": null,
      "overflow_x": null,
      "overflow_y": null,
      "padding": null,
      "right": null,
      "top": null,
      "visibility": null,
      "width": null
     }
    },
    "3db833df7f034c1199d52188b242610c": {
     "model_module": "@jupyter-widgets/base",
     "model_module_version": "1.2.0",
     "model_name": "LayoutModel",
     "state": {
      "_model_module": "@jupyter-widgets/base",
      "_model_module_version": "1.2.0",
      "_model_name": "LayoutModel",
      "_view_count": null,
      "_view_module": "@jupyter-widgets/base",
      "_view_module_version": "1.2.0",
      "_view_name": "LayoutView",
      "align_content": null,
      "align_items": null,
      "align_self": null,
      "border": null,
      "bottom": null,
      "display": null,
      "flex": null,
      "flex_flow": null,
      "grid_area": null,
      "grid_auto_columns": null,
      "grid_auto_flow": null,
      "grid_auto_rows": null,
      "grid_column": null,
      "grid_gap": null,
      "grid_row": null,
      "grid_template_areas": null,
      "grid_template_columns": null,
      "grid_template_rows": null,
      "height": null,
      "justify_content": null,
      "justify_items": null,
      "left": null,
      "margin": null,
      "max_height": null,
      "max_width": null,
      "min_height": null,
      "min_width": null,
      "object_fit": null,
      "object_position": null,
      "order": null,
      "overflow": null,
      "overflow_x": null,
      "overflow_y": null,
      "padding": null,
      "right": null,
      "top": null,
      "visibility": null,
      "width": null
     }
    },
    "3eac1aa497e142348cc7ddd3d3149d07": {
     "model_module": "@jupyter-widgets/base",
     "model_module_version": "1.2.0",
     "model_name": "LayoutModel",
     "state": {
      "_model_module": "@jupyter-widgets/base",
      "_model_module_version": "1.2.0",
      "_model_name": "LayoutModel",
      "_view_count": null,
      "_view_module": "@jupyter-widgets/base",
      "_view_module_version": "1.2.0",
      "_view_name": "LayoutView",
      "align_content": null,
      "align_items": null,
      "align_self": null,
      "border": null,
      "bottom": null,
      "display": null,
      "flex": null,
      "flex_flow": null,
      "grid_area": null,
      "grid_auto_columns": null,
      "grid_auto_flow": null,
      "grid_auto_rows": null,
      "grid_column": null,
      "grid_gap": null,
      "grid_row": null,
      "grid_template_areas": null,
      "grid_template_columns": null,
      "grid_template_rows": null,
      "height": null,
      "justify_content": null,
      "justify_items": null,
      "left": null,
      "margin": null,
      "max_height": null,
      "max_width": null,
      "min_height": null,
      "min_width": null,
      "object_fit": null,
      "object_position": null,
      "order": null,
      "overflow": null,
      "overflow_x": null,
      "overflow_y": null,
      "padding": null,
      "right": null,
      "top": null,
      "visibility": null,
      "width": null
     }
    },
    "428c136d31964fd093e2aadca93ef5c7": {
     "model_module": "@jupyter-widgets/controls",
     "model_module_version": "1.5.0",
     "model_name": "HTMLModel",
     "state": {
      "_dom_classes": [],
      "_model_module": "@jupyter-widgets/controls",
      "_model_module_version": "1.5.0",
      "_model_name": "HTMLModel",
      "_view_count": null,
      "_view_module": "@jupyter-widgets/controls",
      "_view_module_version": "1.5.0",
      "_view_name": "HTMLView",
      "description": "",
      "description_tooltip": null,
      "layout": "IPY_MODEL_f279b84231f247e391ae3e70913c2f8d",
      "placeholder": "​",
      "style": "IPY_MODEL_0a8179380583411785f4610ab541d6ec",
      "value": " 16753/16753 [04:54&lt;00:00, 57.85it/s]"
     }
    },
    "455829e8241d45c099fa872d015d76ee": {
     "model_module": "@jupyter-widgets/controls",
     "model_module_version": "1.5.0",
     "model_name": "FloatProgressModel",
     "state": {
      "_dom_classes": [],
      "_model_module": "@jupyter-widgets/controls",
      "_model_module_version": "1.5.0",
      "_model_name": "FloatProgressModel",
      "_view_count": null,
      "_view_module": "@jupyter-widgets/controls",
      "_view_module_version": "1.5.0",
      "_view_name": "ProgressView",
      "bar_style": "success",
      "description": "",
      "description_tooltip": null,
      "layout": "IPY_MODEL_5d4246d46d6c42baa66f0ee341be7c72",
      "max": 12406,
      "min": 0,
      "orientation": "horizontal",
      "style": "IPY_MODEL_bc76eef610b34ee5bd3198c2e59b5571",
      "value": 12406
     }
    },
    "4ac5a4756d884e3c8dce1d8eb5ee8df4": {
     "model_module": "@jupyter-widgets/base",
     "model_module_version": "1.2.0",
     "model_name": "LayoutModel",
     "state": {
      "_model_module": "@jupyter-widgets/base",
      "_model_module_version": "1.2.0",
      "_model_name": "LayoutModel",
      "_view_count": null,
      "_view_module": "@jupyter-widgets/base",
      "_view_module_version": "1.2.0",
      "_view_name": "LayoutView",
      "align_content": null,
      "align_items": null,
      "align_self": null,
      "border": null,
      "bottom": null,
      "display": null,
      "flex": null,
      "flex_flow": null,
      "grid_area": null,
      "grid_auto_columns": null,
      "grid_auto_flow": null,
      "grid_auto_rows": null,
      "grid_column": null,
      "grid_gap": null,
      "grid_row": null,
      "grid_template_areas": null,
      "grid_template_columns": null,
      "grid_template_rows": null,
      "height": null,
      "justify_content": null,
      "justify_items": null,
      "left": null,
      "margin": null,
      "max_height": null,
      "max_width": null,
      "min_height": null,
      "min_width": null,
      "object_fit": null,
      "object_position": null,
      "order": null,
      "overflow": null,
      "overflow_x": null,
      "overflow_y": null,
      "padding": null,
      "right": null,
      "top": null,
      "visibility": null,
      "width": null
     }
    },
    "4bd7c42ca78d4672b3a5b2a4ad508b13": {
     "model_module": "@jupyter-widgets/controls",
     "model_module_version": "1.5.0",
     "model_name": "DescriptionStyleModel",
     "state": {
      "_model_module": "@jupyter-widgets/controls",
      "_model_module_version": "1.5.0",
      "_model_name": "DescriptionStyleModel",
      "_view_count": null,
      "_view_module": "@jupyter-widgets/base",
      "_view_module_version": "1.2.0",
      "_view_name": "StyleView",
      "description_width": ""
     }
    },
    "58097bbf6fef4e2b95f41f558a0a300a": {
     "model_module": "@jupyter-widgets/controls",
     "model_module_version": "1.5.0",
     "model_name": "HBoxModel",
     "state": {
      "_dom_classes": [],
      "_model_module": "@jupyter-widgets/controls",
      "_model_module_version": "1.5.0",
      "_model_name": "HBoxModel",
      "_view_count": null,
      "_view_module": "@jupyter-widgets/controls",
      "_view_module_version": "1.5.0",
      "_view_name": "HBoxView",
      "box_style": "",
      "children": [
       "IPY_MODEL_dced4c19d6d3431ebedb6a5a9fd29a00",
       "IPY_MODEL_455829e8241d45c099fa872d015d76ee",
       "IPY_MODEL_708e0d7bd9e348d1b99185ddcbe27cc0"
      ],
      "layout": "IPY_MODEL_6aded57491184c279c28ae4d4e7407f6"
     }
    },
    "583c1f2d5430452a9cf76ed438c65e64": {
     "model_module": "@jupyter-widgets/controls",
     "model_module_version": "1.5.0",
     "model_name": "HTMLModel",
     "state": {
      "_dom_classes": [],
      "_model_module": "@jupyter-widgets/controls",
      "_model_module_version": "1.5.0",
      "_model_name": "HTMLModel",
      "_view_count": null,
      "_view_module": "@jupyter-widgets/controls",
      "_view_module_version": "1.5.0",
      "_view_name": "HTMLView",
      "description": "",
      "description_tooltip": null,
      "layout": "IPY_MODEL_3a361ace8315401b9faf50b7e377b654",
      "placeholder": "​",
      "style": "IPY_MODEL_e46e3d9623db4f2c957c81ece8f59c9a",
      "value": " 15/15 [02:08&lt;00:00,  7.71s/it]"
     }
    },
    "5d4246d46d6c42baa66f0ee341be7c72": {
     "model_module": "@jupyter-widgets/base",
     "model_module_version": "1.2.0",
     "model_name": "LayoutModel",
     "state": {
      "_model_module": "@jupyter-widgets/base",
      "_model_module_version": "1.2.0",
      "_model_name": "LayoutModel",
      "_view_count": null,
      "_view_module": "@jupyter-widgets/base",
      "_view_module_version": "1.2.0",
      "_view_name": "LayoutView",
      "align_content": null,
      "align_items": null,
      "align_self": null,
      "border": null,
      "bottom": null,
      "display": null,
      "flex": null,
      "flex_flow": null,
      "grid_area": null,
      "grid_auto_columns": null,
      "grid_auto_flow": null,
      "grid_auto_rows": null,
      "grid_column": null,
      "grid_gap": null,
      "grid_row": null,
      "grid_template_areas": null,
      "grid_template_columns": null,
      "grid_template_rows": null,
      "height": null,
      "justify_content": null,
      "justify_items": null,
      "left": null,
      "margin": null,
      "max_height": null,
      "max_width": null,
      "min_height": null,
      "min_width": null,
      "object_fit": null,
      "object_position": null,
      "order": null,
      "overflow": null,
      "overflow_x": null,
      "overflow_y": null,
      "padding": null,
      "right": null,
      "top": null,
      "visibility": null,
      "width": null
     }
    },
    "5e46694fefb542e0948270973c702954": {
     "model_module": "@jupyter-widgets/controls",
     "model_module_version": "1.5.0",
     "model_name": "FloatProgressModel",
     "state": {
      "_dom_classes": [],
      "_model_module": "@jupyter-widgets/controls",
      "_model_module_version": "1.5.0",
      "_model_name": "FloatProgressModel",
      "_view_count": null,
      "_view_module": "@jupyter-widgets/controls",
      "_view_module_version": "1.5.0",
      "_view_name": "ProgressView",
      "bar_style": "success",
      "description": "",
      "description_tooltip": null,
      "layout": "IPY_MODEL_4ac5a4756d884e3c8dce1d8eb5ee8df4",
      "max": 16753,
      "min": 0,
      "orientation": "horizontal",
      "style": "IPY_MODEL_313a2d8b1d0d4da791ce6a926e15fa19",
      "value": 16753
     }
    },
    "692b0e4b0f47424e848f943e9dc2920a": {
     "model_module": "@jupyter-widgets/base",
     "model_module_version": "1.2.0",
     "model_name": "LayoutModel",
     "state": {
      "_model_module": "@jupyter-widgets/base",
      "_model_module_version": "1.2.0",
      "_model_name": "LayoutModel",
      "_view_count": null,
      "_view_module": "@jupyter-widgets/base",
      "_view_module_version": "1.2.0",
      "_view_name": "LayoutView",
      "align_content": null,
      "align_items": null,
      "align_self": null,
      "border": null,
      "bottom": null,
      "display": null,
      "flex": null,
      "flex_flow": null,
      "grid_area": null,
      "grid_auto_columns": null,
      "grid_auto_flow": null,
      "grid_auto_rows": null,
      "grid_column": null,
      "grid_gap": null,
      "grid_row": null,
      "grid_template_areas": null,
      "grid_template_columns": null,
      "grid_template_rows": null,
      "height": null,
      "justify_content": null,
      "justify_items": null,
      "left": null,
      "margin": null,
      "max_height": null,
      "max_width": null,
      "min_height": null,
      "min_width": null,
      "object_fit": null,
      "object_position": null,
      "order": null,
      "overflow": null,
      "overflow_x": null,
      "overflow_y": null,
      "padding": null,
      "right": null,
      "top": null,
      "visibility": null,
      "width": null
     }
    },
    "6aded57491184c279c28ae4d4e7407f6": {
     "model_module": "@jupyter-widgets/base",
     "model_module_version": "1.2.0",
     "model_name": "LayoutModel",
     "state": {
      "_model_module": "@jupyter-widgets/base",
      "_model_module_version": "1.2.0",
      "_model_name": "LayoutModel",
      "_view_count": null,
      "_view_module": "@jupyter-widgets/base",
      "_view_module_version": "1.2.0",
      "_view_name": "LayoutView",
      "align_content": null,
      "align_items": null,
      "align_self": null,
      "border": null,
      "bottom": null,
      "display": null,
      "flex": null,
      "flex_flow": null,
      "grid_area": null,
      "grid_auto_columns": null,
      "grid_auto_flow": null,
      "grid_auto_rows": null,
      "grid_column": null,
      "grid_gap": null,
      "grid_row": null,
      "grid_template_areas": null,
      "grid_template_columns": null,
      "grid_template_rows": null,
      "height": null,
      "justify_content": null,
      "justify_items": null,
      "left": null,
      "margin": null,
      "max_height": null,
      "max_width": null,
      "min_height": null,
      "min_width": null,
      "object_fit": null,
      "object_position": null,
      "order": null,
      "overflow": null,
      "overflow_x": null,
      "overflow_y": null,
      "padding": null,
      "right": null,
      "top": null,
      "visibility": null,
      "width": null
     }
    },
    "6bf87b161b954999952a6d337577a664": {
     "model_module": "@jupyter-widgets/controls",
     "model_module_version": "1.5.0",
     "model_name": "HTMLModel",
     "state": {
      "_dom_classes": [],
      "_model_module": "@jupyter-widgets/controls",
      "_model_module_version": "1.5.0",
      "_model_name": "HTMLModel",
      "_view_count": null,
      "_view_module": "@jupyter-widgets/controls",
      "_view_module_version": "1.5.0",
      "_view_name": "HTMLView",
      "description": "",
      "description_tooltip": null,
      "layout": "IPY_MODEL_692b0e4b0f47424e848f943e9dc2920a",
      "placeholder": "​",
      "style": "IPY_MODEL_23d91341a43349b9a49f19ffd81c9e02",
      "value": "100%"
     }
    },
    "708e0d7bd9e348d1b99185ddcbe27cc0": {
     "model_module": "@jupyter-widgets/controls",
     "model_module_version": "1.5.0",
     "model_name": "HTMLModel",
     "state": {
      "_dom_classes": [],
      "_model_module": "@jupyter-widgets/controls",
      "_model_module_version": "1.5.0",
      "_model_name": "HTMLModel",
      "_view_count": null,
      "_view_module": "@jupyter-widgets/controls",
      "_view_module_version": "1.5.0",
      "_view_name": "HTMLView",
      "description": "",
      "description_tooltip": null,
      "layout": "IPY_MODEL_3eac1aa497e142348cc7ddd3d3149d07",
      "placeholder": "​",
      "style": "IPY_MODEL_9a5eaae1ccb34ef99eb1ceef37c2b0ad",
      "value": " 12406/12406 [02:07&lt;00:00, 101.69it/s]"
     }
    },
    "9a5eaae1ccb34ef99eb1ceef37c2b0ad": {
     "model_module": "@jupyter-widgets/controls",
     "model_module_version": "1.5.0",
     "model_name": "DescriptionStyleModel",
     "state": {
      "_model_module": "@jupyter-widgets/controls",
      "_model_module_version": "1.5.0",
      "_model_name": "DescriptionStyleModel",
      "_view_count": null,
      "_view_module": "@jupyter-widgets/base",
      "_view_module_version": "1.2.0",
      "_view_name": "StyleView",
      "description_width": ""
     }
    },
    "9e35014db65e438fada932a477dfebf2": {
     "model_module": "@jupyter-widgets/controls",
     "model_module_version": "1.5.0",
     "model_name": "HBoxModel",
     "state": {
      "_dom_classes": [],
      "_model_module": "@jupyter-widgets/controls",
      "_model_module_version": "1.5.0",
      "_model_name": "HBoxModel",
      "_view_count": null,
      "_view_module": "@jupyter-widgets/controls",
      "_view_module_version": "1.5.0",
      "_view_name": "HBoxView",
      "box_style": "",
      "children": [
       "IPY_MODEL_cd3f85754e844696a20fd41eacc89b40",
       "IPY_MODEL_1af4fefd505f48d794821396f5b9fc1b",
       "IPY_MODEL_583c1f2d5430452a9cf76ed438c65e64"
      ],
      "layout": "IPY_MODEL_3db833df7f034c1199d52188b242610c"
     }
    },
    "bc76eef610b34ee5bd3198c2e59b5571": {
     "model_module": "@jupyter-widgets/controls",
     "model_module_version": "1.5.0",
     "model_name": "ProgressStyleModel",
     "state": {
      "_model_module": "@jupyter-widgets/controls",
      "_model_module_version": "1.5.0",
      "_model_name": "ProgressStyleModel",
      "_view_count": null,
      "_view_module": "@jupyter-widgets/base",
      "_view_module_version": "1.2.0",
      "_view_name": "StyleView",
      "bar_color": null,
      "description_width": ""
     }
    },
    "be58df1cad224991b004a318f0c69322": {
     "model_module": "@jupyter-widgets/controls",
     "model_module_version": "1.5.0",
     "model_name": "HBoxModel",
     "state": {
      "_dom_classes": [],
      "_model_module": "@jupyter-widgets/controls",
      "_model_module_version": "1.5.0",
      "_model_name": "HBoxModel",
      "_view_count": null,
      "_view_module": "@jupyter-widgets/controls",
      "_view_module_version": "1.5.0",
      "_view_name": "HBoxView",
      "box_style": "",
      "children": [
       "IPY_MODEL_6bf87b161b954999952a6d337577a664",
       "IPY_MODEL_5e46694fefb542e0948270973c702954",
       "IPY_MODEL_428c136d31964fd093e2aadca93ef5c7"
      ],
      "layout": "IPY_MODEL_e7880e2ddc5e4f9080f78d652db0bade"
     }
    },
    "c1bed85b821845fd88a0fc3d13c24f61": {
     "model_module": "@jupyter-widgets/controls",
     "model_module_version": "1.5.0",
     "model_name": "DescriptionStyleModel",
     "state": {
      "_model_module": "@jupyter-widgets/controls",
      "_model_module_version": "1.5.0",
      "_model_name": "DescriptionStyleModel",
      "_view_count": null,
      "_view_module": "@jupyter-widgets/base",
      "_view_module_version": "1.2.0",
      "_view_name": "StyleView",
      "description_width": ""
     }
    },
    "cd3f85754e844696a20fd41eacc89b40": {
     "model_module": "@jupyter-widgets/controls",
     "model_module_version": "1.5.0",
     "model_name": "HTMLModel",
     "state": {
      "_dom_classes": [],
      "_model_module": "@jupyter-widgets/controls",
      "_model_module_version": "1.5.0",
      "_model_name": "HTMLModel",
      "_view_count": null,
      "_view_module": "@jupyter-widgets/controls",
      "_view_module_version": "1.5.0",
      "_view_name": "HTMLView",
      "description": "",
      "description_tooltip": null,
      "layout": "IPY_MODEL_1fcd51026434444fba4c19e014a4fd44",
      "placeholder": "​",
      "style": "IPY_MODEL_c1bed85b821845fd88a0fc3d13c24f61",
      "value": "100%"
     }
    },
    "dced4c19d6d3431ebedb6a5a9fd29a00": {
     "model_module": "@jupyter-widgets/controls",
     "model_module_version": "1.5.0",
     "model_name": "HTMLModel",
     "state": {
      "_dom_classes": [],
      "_model_module": "@jupyter-widgets/controls",
      "_model_module_version": "1.5.0",
      "_model_name": "HTMLModel",
      "_view_count": null,
      "_view_module": "@jupyter-widgets/controls",
      "_view_module_version": "1.5.0",
      "_view_name": "HTMLView",
      "description": "",
      "description_tooltip": null,
      "layout": "IPY_MODEL_224b4e830a974af7a2b3d50f7964e63d",
      "placeholder": "​",
      "style": "IPY_MODEL_4bd7c42ca78d4672b3a5b2a4ad508b13",
      "value": "100%"
     }
    },
    "e46e3d9623db4f2c957c81ece8f59c9a": {
     "model_module": "@jupyter-widgets/controls",
     "model_module_version": "1.5.0",
     "model_name": "DescriptionStyleModel",
     "state": {
      "_model_module": "@jupyter-widgets/controls",
      "_model_module_version": "1.5.0",
      "_model_name": "DescriptionStyleModel",
      "_view_count": null,
      "_view_module": "@jupyter-widgets/base",
      "_view_module_version": "1.2.0",
      "_view_name": "StyleView",
      "description_width": ""
     }
    },
    "e7880e2ddc5e4f9080f78d652db0bade": {
     "model_module": "@jupyter-widgets/base",
     "model_module_version": "1.2.0",
     "model_name": "LayoutModel",
     "state": {
      "_model_module": "@jupyter-widgets/base",
      "_model_module_version": "1.2.0",
      "_model_name": "LayoutModel",
      "_view_count": null,
      "_view_module": "@jupyter-widgets/base",
      "_view_module_version": "1.2.0",
      "_view_name": "LayoutView",
      "align_content": null,
      "align_items": null,
      "align_self": null,
      "border": null,
      "bottom": null,
      "display": null,
      "flex": null,
      "flex_flow": null,
      "grid_area": null,
      "grid_auto_columns": null,
      "grid_auto_flow": null,
      "grid_auto_rows": null,
      "grid_column": null,
      "grid_gap": null,
      "grid_row": null,
      "grid_template_areas": null,
      "grid_template_columns": null,
      "grid_template_rows": null,
      "height": null,
      "justify_content": null,
      "justify_items": null,
      "left": null,
      "margin": null,
      "max_height": null,
      "max_width": null,
      "min_height": null,
      "min_width": null,
      "object_fit": null,
      "object_position": null,
      "order": null,
      "overflow": null,
      "overflow_x": null,
      "overflow_y": null,
      "padding": null,
      "right": null,
      "top": null,
      "visibility": null,
      "width": null
     }
    },
    "f279b84231f247e391ae3e70913c2f8d": {
     "model_module": "@jupyter-widgets/base",
     "model_module_version": "1.2.0",
     "model_name": "LayoutModel",
     "state": {
      "_model_module": "@jupyter-widgets/base",
      "_model_module_version": "1.2.0",
      "_model_name": "LayoutModel",
      "_view_count": null,
      "_view_module": "@jupyter-widgets/base",
      "_view_module_version": "1.2.0",
      "_view_name": "LayoutView",
      "align_content": null,
      "align_items": null,
      "align_self": null,
      "border": null,
      "bottom": null,
      "display": null,
      "flex": null,
      "flex_flow": null,
      "grid_area": null,
      "grid_auto_columns": null,
      "grid_auto_flow": null,
      "grid_auto_rows": null,
      "grid_column": null,
      "grid_gap": null,
      "grid_row": null,
      "grid_template_areas": null,
      "grid_template_columns": null,
      "grid_template_rows": null,
      "height": null,
      "justify_content": null,
      "justify_items": null,
      "left": null,
      "margin": null,
      "max_height": null,
      "max_width": null,
      "min_height": null,
      "min_width": null,
      "object_fit": null,
      "object_position": null,
      "order": null,
      "overflow": null,
      "overflow_x": null,
      "overflow_y": null,
      "padding": null,
      "right": null,
      "top": null,
      "visibility": null,
      "width": null
     }
    },
    "fac76e7c28494a078cea00a3503e6ae4": {
     "model_module": "@jupyter-widgets/controls",
     "model_module_version": "1.5.0",
     "model_name": "ProgressStyleModel",
     "state": {
      "_model_module": "@jupyter-widgets/controls",
      "_model_module_version": "1.5.0",
      "_model_name": "ProgressStyleModel",
      "_view_count": null,
      "_view_module": "@jupyter-widgets/base",
      "_view_module_version": "1.2.0",
      "_view_name": "StyleView",
      "bar_color": null,
      "description_width": ""
     }
    }
   }
  }
 },
 "nbformat": 4,
 "nbformat_minor": 4
}
